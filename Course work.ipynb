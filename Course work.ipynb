{
 "cells": [
  {
   "cell_type": "code",
   "execution_count": 1,
   "metadata": {},
   "outputs": [],
   "source": [
    "import csv  \n",
    "import itertools"
   ]
  },
  {
   "cell_type": "code",
   "execution_count": 37,
   "metadata": {},
   "outputs": [],
   "source": [
    "from datetime import datetime"
   ]
  },
  {
   "cell_type": "code",
   "execution_count": 5,
   "metadata": {},
   "outputs": [],
   "source": [
    "import pandas as pd "
   ]
  },
  {
   "cell_type": "code",
   "execution_count": 2,
   "metadata": {},
   "outputs": [],
   "source": [
    "path = \"D:\\YT Data\\yellow_tripdata_2015-01.csv\";"
   ]
  },
  {
   "cell_type": "code",
   "execution_count": 79,
   "metadata": {},
   "outputs": [],
   "source": [
    "df_chunk = pd.read_csv(path, chunksize=1000)"
   ]
  },
  {
   "cell_type": "code",
   "execution_count": 63,
   "metadata": {},
   "outputs": [
    {
     "data": {
      "text/plain": [
       "<pandas.io.parsers.TextFileReader at 0x1ee88bf6610>"
      ]
     },
     "execution_count": 63,
     "metadata": {},
     "output_type": "execute_result"
    }
   ],
   "source": [
    "df_chunk"
   ]
  },
  {
   "cell_type": "code",
   "execution_count": 61,
   "metadata": {},
   "outputs": [],
   "source": [
    "ex= pd.DataFrame(df_chunk.get_chunk(100))"
   ]
  },
  {
   "cell_type": "code",
   "execution_count": 62,
   "metadata": {},
   "outputs": [
    {
     "data": {
      "text/html": [
       "<div>\n",
       "<style scoped>\n",
       "    .dataframe tbody tr th:only-of-type {\n",
       "        vertical-align: middle;\n",
       "    }\n",
       "\n",
       "    .dataframe tbody tr th {\n",
       "        vertical-align: top;\n",
       "    }\n",
       "\n",
       "    .dataframe thead th {\n",
       "        text-align: right;\n",
       "    }\n",
       "</style>\n",
       "<table border=\"1\" class=\"dataframe\">\n",
       "  <thead>\n",
       "    <tr style=\"text-align: right;\">\n",
       "      <th></th>\n",
       "      <th>VendorID</th>\n",
       "      <th>tpep_pickup_datetime</th>\n",
       "      <th>tpep_dropoff_datetime</th>\n",
       "      <th>passenger_count</th>\n",
       "      <th>trip_distance</th>\n",
       "      <th>pickup_longitude</th>\n",
       "      <th>pickup_latitude</th>\n",
       "      <th>RateCodeID</th>\n",
       "      <th>store_and_fwd_flag</th>\n",
       "      <th>dropoff_longitude</th>\n",
       "      <th>dropoff_latitude</th>\n",
       "      <th>payment_type</th>\n",
       "      <th>fare_amount</th>\n",
       "      <th>extra</th>\n",
       "      <th>mta_tax</th>\n",
       "      <th>tip_amount</th>\n",
       "      <th>tolls_amount</th>\n",
       "      <th>improvement_surcharge</th>\n",
       "      <th>total_amount</th>\n",
       "    </tr>\n",
       "  </thead>\n",
       "  <tbody>\n",
       "    <tr>\n",
       "      <th>100</th>\n",
       "      <td>1</td>\n",
       "      <td>2015-01-26 12:41:09</td>\n",
       "      <td>2015-01-26 12:45:08</td>\n",
       "      <td>1</td>\n",
       "      <td>0.5</td>\n",
       "      <td>-73.982811</td>\n",
       "      <td>40.745255</td>\n",
       "      <td>1</td>\n",
       "      <td>N</td>\n",
       "      <td>-73.980042</td>\n",
       "      <td>40.752075</td>\n",
       "      <td>2</td>\n",
       "      <td>4.5</td>\n",
       "      <td>0.0</td>\n",
       "      <td>0.5</td>\n",
       "      <td>0.00</td>\n",
       "      <td>0.0</td>\n",
       "      <td>0.3</td>\n",
       "      <td>5.30</td>\n",
       "    </tr>\n",
       "    <tr>\n",
       "      <th>101</th>\n",
       "      <td>1</td>\n",
       "      <td>2015-01-26 12:41:09</td>\n",
       "      <td>2015-01-26 12:45:39</td>\n",
       "      <td>1</td>\n",
       "      <td>0.8</td>\n",
       "      <td>-73.991493</td>\n",
       "      <td>40.738937</td>\n",
       "      <td>1</td>\n",
       "      <td>N</td>\n",
       "      <td>-73.988594</td>\n",
       "      <td>40.730511</td>\n",
       "      <td>2</td>\n",
       "      <td>5.0</td>\n",
       "      <td>0.0</td>\n",
       "      <td>0.5</td>\n",
       "      <td>0.00</td>\n",
       "      <td>0.0</td>\n",
       "      <td>0.3</td>\n",
       "      <td>5.80</td>\n",
       "    </tr>\n",
       "    <tr>\n",
       "      <th>102</th>\n",
       "      <td>1</td>\n",
       "      <td>2015-01-26 12:41:10</td>\n",
       "      <td>2015-01-26 13:05:04</td>\n",
       "      <td>1</td>\n",
       "      <td>1.1</td>\n",
       "      <td>-73.982391</td>\n",
       "      <td>40.757408</td>\n",
       "      <td>1</td>\n",
       "      <td>N</td>\n",
       "      <td>-73.968620</td>\n",
       "      <td>40.761520</td>\n",
       "      <td>1</td>\n",
       "      <td>14.5</td>\n",
       "      <td>0.0</td>\n",
       "      <td>0.5</td>\n",
       "      <td>3.05</td>\n",
       "      <td>0.0</td>\n",
       "      <td>0.3</td>\n",
       "      <td>18.35</td>\n",
       "    </tr>\n",
       "    <tr>\n",
       "      <th>103</th>\n",
       "      <td>1</td>\n",
       "      <td>2015-01-26 12:41:10</td>\n",
       "      <td>2015-01-26 13:00:55</td>\n",
       "      <td>1</td>\n",
       "      <td>2.9</td>\n",
       "      <td>-73.973076</td>\n",
       "      <td>40.780361</td>\n",
       "      <td>1</td>\n",
       "      <td>N</td>\n",
       "      <td>-73.986259</td>\n",
       "      <td>40.746643</td>\n",
       "      <td>2</td>\n",
       "      <td>14.0</td>\n",
       "      <td>0.0</td>\n",
       "      <td>0.5</td>\n",
       "      <td>0.00</td>\n",
       "      <td>0.0</td>\n",
       "      <td>0.3</td>\n",
       "      <td>14.80</td>\n",
       "    </tr>\n",
       "    <tr>\n",
       "      <th>104</th>\n",
       "      <td>1</td>\n",
       "      <td>2015-01-26 12:41:11</td>\n",
       "      <td>2015-01-26 12:44:41</td>\n",
       "      <td>1</td>\n",
       "      <td>0.3</td>\n",
       "      <td>-73.971817</td>\n",
       "      <td>40.756901</td>\n",
       "      <td>1</td>\n",
       "      <td>N</td>\n",
       "      <td>-73.974548</td>\n",
       "      <td>40.751736</td>\n",
       "      <td>2</td>\n",
       "      <td>4.0</td>\n",
       "      <td>0.0</td>\n",
       "      <td>0.5</td>\n",
       "      <td>0.00</td>\n",
       "      <td>0.0</td>\n",
       "      <td>0.3</td>\n",
       "      <td>4.80</td>\n",
       "    </tr>\n",
       "    <tr>\n",
       "      <th>...</th>\n",
       "      <td>...</td>\n",
       "      <td>...</td>\n",
       "      <td>...</td>\n",
       "      <td>...</td>\n",
       "      <td>...</td>\n",
       "      <td>...</td>\n",
       "      <td>...</td>\n",
       "      <td>...</td>\n",
       "      <td>...</td>\n",
       "      <td>...</td>\n",
       "      <td>...</td>\n",
       "      <td>...</td>\n",
       "      <td>...</td>\n",
       "      <td>...</td>\n",
       "      <td>...</td>\n",
       "      <td>...</td>\n",
       "      <td>...</td>\n",
       "      <td>...</td>\n",
       "      <td>...</td>\n",
       "    </tr>\n",
       "    <tr>\n",
       "      <th>195</th>\n",
       "      <td>1</td>\n",
       "      <td>2015-01-20 22:49:14</td>\n",
       "      <td>2015-01-20 22:56:46</td>\n",
       "      <td>1</td>\n",
       "      <td>2.3</td>\n",
       "      <td>-73.948128</td>\n",
       "      <td>40.782906</td>\n",
       "      <td>1</td>\n",
       "      <td>N</td>\n",
       "      <td>-73.970390</td>\n",
       "      <td>40.757874</td>\n",
       "      <td>1</td>\n",
       "      <td>9.0</td>\n",
       "      <td>0.5</td>\n",
       "      <td>0.5</td>\n",
       "      <td>1.00</td>\n",
       "      <td>0.0</td>\n",
       "      <td>0.3</td>\n",
       "      <td>11.30</td>\n",
       "    </tr>\n",
       "    <tr>\n",
       "      <th>196</th>\n",
       "      <td>1</td>\n",
       "      <td>2015-01-20 22:49:14</td>\n",
       "      <td>2015-01-20 23:14:16</td>\n",
       "      <td>1</td>\n",
       "      <td>6.4</td>\n",
       "      <td>-73.982964</td>\n",
       "      <td>40.775791</td>\n",
       "      <td>1</td>\n",
       "      <td>N</td>\n",
       "      <td>-73.889488</td>\n",
       "      <td>40.740097</td>\n",
       "      <td>2</td>\n",
       "      <td>23.0</td>\n",
       "      <td>0.5</td>\n",
       "      <td>0.5</td>\n",
       "      <td>0.00</td>\n",
       "      <td>0.0</td>\n",
       "      <td>0.3</td>\n",
       "      <td>24.30</td>\n",
       "    </tr>\n",
       "    <tr>\n",
       "      <th>197</th>\n",
       "      <td>1</td>\n",
       "      <td>2015-01-20 22:49:14</td>\n",
       "      <td>2015-01-20 22:53:43</td>\n",
       "      <td>1</td>\n",
       "      <td>0.8</td>\n",
       "      <td>-73.997459</td>\n",
       "      <td>40.741722</td>\n",
       "      <td>1</td>\n",
       "      <td>N</td>\n",
       "      <td>-74.008682</td>\n",
       "      <td>40.738152</td>\n",
       "      <td>1</td>\n",
       "      <td>5.0</td>\n",
       "      <td>0.5</td>\n",
       "      <td>0.5</td>\n",
       "      <td>1.26</td>\n",
       "      <td>0.0</td>\n",
       "      <td>0.3</td>\n",
       "      <td>7.56</td>\n",
       "    </tr>\n",
       "    <tr>\n",
       "      <th>198</th>\n",
       "      <td>1</td>\n",
       "      <td>2015-01-20 22:49:14</td>\n",
       "      <td>2015-01-20 22:56:49</td>\n",
       "      <td>1</td>\n",
       "      <td>1.7</td>\n",
       "      <td>-73.961563</td>\n",
       "      <td>40.714287</td>\n",
       "      <td>1</td>\n",
       "      <td>N</td>\n",
       "      <td>-73.952301</td>\n",
       "      <td>40.694344</td>\n",
       "      <td>2</td>\n",
       "      <td>7.5</td>\n",
       "      <td>0.5</td>\n",
       "      <td>0.5</td>\n",
       "      <td>0.00</td>\n",
       "      <td>0.0</td>\n",
       "      <td>0.3</td>\n",
       "      <td>8.80</td>\n",
       "    </tr>\n",
       "    <tr>\n",
       "      <th>199</th>\n",
       "      <td>1</td>\n",
       "      <td>2015-01-26 13:04:14</td>\n",
       "      <td>2015-01-26 13:10:11</td>\n",
       "      <td>1</td>\n",
       "      <td>0.9</td>\n",
       "      <td>-73.994858</td>\n",
       "      <td>40.734421</td>\n",
       "      <td>1</td>\n",
       "      <td>N</td>\n",
       "      <td>-73.985008</td>\n",
       "      <td>40.725952</td>\n",
       "      <td>1</td>\n",
       "      <td>6.0</td>\n",
       "      <td>0.0</td>\n",
       "      <td>0.5</td>\n",
       "      <td>1.35</td>\n",
       "      <td>0.0</td>\n",
       "      <td>0.3</td>\n",
       "      <td>8.15</td>\n",
       "    </tr>\n",
       "  </tbody>\n",
       "</table>\n",
       "<p>100 rows × 19 columns</p>\n",
       "</div>"
      ],
      "text/plain": [
       "     VendorID tpep_pickup_datetime tpep_dropoff_datetime  passenger_count  \\\n",
       "100         1  2015-01-26 12:41:09   2015-01-26 12:45:08                1   \n",
       "101         1  2015-01-26 12:41:09   2015-01-26 12:45:39                1   \n",
       "102         1  2015-01-26 12:41:10   2015-01-26 13:05:04                1   \n",
       "103         1  2015-01-26 12:41:10   2015-01-26 13:00:55                1   \n",
       "104         1  2015-01-26 12:41:11   2015-01-26 12:44:41                1   \n",
       "..        ...                  ...                   ...              ...   \n",
       "195         1  2015-01-20 22:49:14   2015-01-20 22:56:46                1   \n",
       "196         1  2015-01-20 22:49:14   2015-01-20 23:14:16                1   \n",
       "197         1  2015-01-20 22:49:14   2015-01-20 22:53:43                1   \n",
       "198         1  2015-01-20 22:49:14   2015-01-20 22:56:49                1   \n",
       "199         1  2015-01-26 13:04:14   2015-01-26 13:10:11                1   \n",
       "\n",
       "     trip_distance  pickup_longitude  pickup_latitude  RateCodeID  \\\n",
       "100            0.5        -73.982811        40.745255           1   \n",
       "101            0.8        -73.991493        40.738937           1   \n",
       "102            1.1        -73.982391        40.757408           1   \n",
       "103            2.9        -73.973076        40.780361           1   \n",
       "104            0.3        -73.971817        40.756901           1   \n",
       "..             ...               ...              ...         ...   \n",
       "195            2.3        -73.948128        40.782906           1   \n",
       "196            6.4        -73.982964        40.775791           1   \n",
       "197            0.8        -73.997459        40.741722           1   \n",
       "198            1.7        -73.961563        40.714287           1   \n",
       "199            0.9        -73.994858        40.734421           1   \n",
       "\n",
       "    store_and_fwd_flag  dropoff_longitude  dropoff_latitude  payment_type  \\\n",
       "100                  N         -73.980042         40.752075             2   \n",
       "101                  N         -73.988594         40.730511             2   \n",
       "102                  N         -73.968620         40.761520             1   \n",
       "103                  N         -73.986259         40.746643             2   \n",
       "104                  N         -73.974548         40.751736             2   \n",
       "..                 ...                ...               ...           ...   \n",
       "195                  N         -73.970390         40.757874             1   \n",
       "196                  N         -73.889488         40.740097             2   \n",
       "197                  N         -74.008682         40.738152             1   \n",
       "198                  N         -73.952301         40.694344             2   \n",
       "199                  N         -73.985008         40.725952             1   \n",
       "\n",
       "     fare_amount  extra  mta_tax  tip_amount  tolls_amount  \\\n",
       "100          4.5    0.0      0.5        0.00           0.0   \n",
       "101          5.0    0.0      0.5        0.00           0.0   \n",
       "102         14.5    0.0      0.5        3.05           0.0   \n",
       "103         14.0    0.0      0.5        0.00           0.0   \n",
       "104          4.0    0.0      0.5        0.00           0.0   \n",
       "..           ...    ...      ...         ...           ...   \n",
       "195          9.0    0.5      0.5        1.00           0.0   \n",
       "196         23.0    0.5      0.5        0.00           0.0   \n",
       "197          5.0    0.5      0.5        1.26           0.0   \n",
       "198          7.5    0.5      0.5        0.00           0.0   \n",
       "199          6.0    0.0      0.5        1.35           0.0   \n",
       "\n",
       "     improvement_surcharge  total_amount  \n",
       "100                    0.3          5.30  \n",
       "101                    0.3          5.80  \n",
       "102                    0.3         18.35  \n",
       "103                    0.3         14.80  \n",
       "104                    0.3          4.80  \n",
       "..                     ...           ...  \n",
       "195                    0.3         11.30  \n",
       "196                    0.3         24.30  \n",
       "197                    0.3          7.56  \n",
       "198                    0.3          8.80  \n",
       "199                    0.3          8.15  \n",
       "\n",
       "[100 rows x 19 columns]"
      ]
     },
     "execution_count": 62,
     "metadata": {},
     "output_type": "execute_result"
    }
   ],
   "source": [
    "ex"
   ]
  },
  {
   "cell_type": "code",
   "execution_count": 21,
   "metadata": {
    "scrolled": true
   },
   "outputs": [
    {
     "data": {
      "text/plain": [
       "VendorID                   int64\n",
       "tpep_pickup_datetime      object\n",
       "tpep_dropoff_datetime     object\n",
       "passenger_count            int64\n",
       "trip_distance            float64\n",
       "pickup_longitude         float64\n",
       "pickup_latitude          float64\n",
       "RateCodeID                 int64\n",
       "store_and_fwd_flag        object\n",
       "dropoff_longitude        float64\n",
       "dropoff_latitude         float64\n",
       "payment_type               int64\n",
       "fare_amount              float64\n",
       "extra                    float64\n",
       "mta_tax                  float64\n",
       "tip_amount               float64\n",
       "tolls_amount             float64\n",
       "improvement_surcharge    float64\n",
       "total_amount             float64\n",
       "dtype: object"
      ]
     },
     "execution_count": 21,
     "metadata": {},
     "output_type": "execute_result"
    }
   ],
   "source": [
    "ex.dtypes"
   ]
  },
  {
   "cell_type": "code",
   "execution_count": null,
   "metadata": {},
   "outputs": [],
   "source": []
  },
  {
   "cell_type": "code",
   "execution_count": 97,
   "metadata": {},
   "outputs": [
    {
     "data": {
      "text/plain": [
       "(-26775.0, 4.0)"
      ]
     },
     "execution_count": 97,
     "metadata": {},
     "output_type": "execute_result"
    }
   ],
   "source": [
    "d1 = datetime.strptime(\"2015-01-26 12:41:09\", '%Y-%m-%d %H:%M:%S')\n",
    "d2 = datetime.strptime(\"2015-01-07 22:26:13\", '%Y-%m-%d %H:%M:%S')\n",
    "dif=divmod((d2-d1).total_seconds(),60)\n",
    "dif"
   ]
  },
  {
   "cell_type": "code",
   "execution_count": 45,
   "metadata": {},
   "outputs": [
    {
     "data": {
      "text/plain": [
       "12"
      ]
     },
     "execution_count": 45,
     "metadata": {},
     "output_type": "execute_result"
    }
   ],
   "source": [
    "d1.hour"
   ]
  },
  {
   "cell_type": "code",
   "execution_count": 28,
   "metadata": {},
   "outputs": [
    {
     "data": {
      "text/plain": [
       "datetime.datetime"
      ]
     },
     "execution_count": 28,
     "metadata": {},
     "output_type": "execute_result"
    }
   ],
   "source": [
    "type(date_time_obj)"
   ]
  },
  {
   "cell_type": "code",
   "execution_count": null,
   "metadata": {},
   "outputs": [],
   "source": [
    "df = df.astype({\"a\": int, \"b\": complex})"
   ]
  },
  {
   "cell_type": "code",
   "execution_count": 71,
   "metadata": {},
   "outputs": [],
   "source": [
    "import sqlite3\n",
    "from sqlalchemy import create_engine"
   ]
  },
  {
   "cell_type": "code",
   "execution_count": 72,
   "metadata": {},
   "outputs": [],
   "source": [
    "csv_database = create_engine('sqlite:///csv_database.db')"
   ]
  },
  {
   "cell_type": "code",
   "execution_count": 77,
   "metadata": {},
   "outputs": [
    {
     "name": "stdout",
     "output_type": "stream",
     "text": [
      "Wall time: 7min 53s\n"
     ]
    }
   ],
   "source": [
    "%%time\n",
    "chunk_size=50000\n",
    "for chunk in pd.read_csv(path,chunksize=chunk_size,iterator=True):\n",
    "    chunk.to_sql('chunk_sql',csv_database, if_exists='append')"
   ]
  },
  {
   "cell_type": "code",
   "execution_count": 78,
   "metadata": {},
   "outputs": [
    {
     "data": {
      "text/html": [
       "<div>\n",
       "<style scoped>\n",
       "    .dataframe tbody tr th:only-of-type {\n",
       "        vertical-align: middle;\n",
       "    }\n",
       "\n",
       "    .dataframe tbody tr th {\n",
       "        vertical-align: top;\n",
       "    }\n",
       "\n",
       "    .dataframe thead th {\n",
       "        text-align: right;\n",
       "    }\n",
       "</style>\n",
       "<table border=\"1\" class=\"dataframe\">\n",
       "  <thead>\n",
       "    <tr style=\"text-align: right;\">\n",
       "      <th></th>\n",
       "      <th>index</th>\n",
       "      <th>VendorID</th>\n",
       "      <th>tpep_pickup_datetime</th>\n",
       "      <th>tpep_dropoff_datetime</th>\n",
       "      <th>passenger_count</th>\n",
       "      <th>trip_distance</th>\n",
       "      <th>pickup_longitude</th>\n",
       "      <th>pickup_latitude</th>\n",
       "      <th>RateCodeID</th>\n",
       "      <th>store_and_fwd_flag</th>\n",
       "      <th>dropoff_longitude</th>\n",
       "      <th>dropoff_latitude</th>\n",
       "      <th>payment_type</th>\n",
       "      <th>fare_amount</th>\n",
       "      <th>extra</th>\n",
       "      <th>mta_tax</th>\n",
       "      <th>tip_amount</th>\n",
       "      <th>tolls_amount</th>\n",
       "      <th>improvement_surcharge</th>\n",
       "      <th>total_amount</th>\n",
       "    </tr>\n",
       "  </thead>\n",
       "  <tbody>\n",
       "    <tr>\n",
       "      <th>0</th>\n",
       "      <td>8</td>\n",
       "      <td>1</td>\n",
       "      <td>2015-01-10 20:33:39</td>\n",
       "      <td>2015-01-10 21:11:35</td>\n",
       "      <td>3</td>\n",
       "      <td>18.20</td>\n",
       "      <td>-73.783043</td>\n",
       "      <td>40.644356</td>\n",
       "      <td>2</td>\n",
       "      <td>N</td>\n",
       "      <td>-73.987595</td>\n",
       "      <td>40.759357</td>\n",
       "      <td>2</td>\n",
       "      <td>52.0</td>\n",
       "      <td>0.0</td>\n",
       "      <td>0.5</td>\n",
       "      <td>0.00</td>\n",
       "      <td>5.33</td>\n",
       "      <td>0.3</td>\n",
       "      <td>58.13</td>\n",
       "    </tr>\n",
       "    <tr>\n",
       "      <th>1</th>\n",
       "      <td>27</td>\n",
       "      <td>2</td>\n",
       "      <td>2015-01-15 19:05:42</td>\n",
       "      <td>2015-01-15 19:49:07</td>\n",
       "      <td>1</td>\n",
       "      <td>18.06</td>\n",
       "      <td>-73.786575</td>\n",
       "      <td>40.644127</td>\n",
       "      <td>2</td>\n",
       "      <td>N</td>\n",
       "      <td>-73.985603</td>\n",
       "      <td>40.743530</td>\n",
       "      <td>1</td>\n",
       "      <td>52.0</td>\n",
       "      <td>0.0</td>\n",
       "      <td>0.5</td>\n",
       "      <td>6.00</td>\n",
       "      <td>5.33</td>\n",
       "      <td>0.3</td>\n",
       "      <td>64.13</td>\n",
       "    </tr>\n",
       "    <tr>\n",
       "      <th>2</th>\n",
       "      <td>37</td>\n",
       "      <td>1</td>\n",
       "      <td>2015-01-10 19:12:21</td>\n",
       "      <td>2015-01-10 19:46:08</td>\n",
       "      <td>1</td>\n",
       "      <td>16.40</td>\n",
       "      <td>-73.977097</td>\n",
       "      <td>40.763172</td>\n",
       "      <td>2</td>\n",
       "      <td>N</td>\n",
       "      <td>-73.790710</td>\n",
       "      <td>40.644276</td>\n",
       "      <td>1</td>\n",
       "      <td>52.0</td>\n",
       "      <td>0.0</td>\n",
       "      <td>0.5</td>\n",
       "      <td>10.00</td>\n",
       "      <td>0.00</td>\n",
       "      <td>0.3</td>\n",
       "      <td>62.80</td>\n",
       "    </tr>\n",
       "    <tr>\n",
       "      <th>3</th>\n",
       "      <td>58</td>\n",
       "      <td>2</td>\n",
       "      <td>2015-01-25 00:13:09</td>\n",
       "      <td>2015-01-25 01:02:40</td>\n",
       "      <td>1</td>\n",
       "      <td>10.20</td>\n",
       "      <td>-73.997612</td>\n",
       "      <td>40.762241</td>\n",
       "      <td>1</td>\n",
       "      <td>N</td>\n",
       "      <td>-73.908577</td>\n",
       "      <td>40.690048</td>\n",
       "      <td>2</td>\n",
       "      <td>39.0</td>\n",
       "      <td>0.5</td>\n",
       "      <td>0.5</td>\n",
       "      <td>0.00</td>\n",
       "      <td>0.00</td>\n",
       "      <td>0.3</td>\n",
       "      <td>40.30</td>\n",
       "    </tr>\n",
       "    <tr>\n",
       "      <th>4</th>\n",
       "      <td>83</td>\n",
       "      <td>2</td>\n",
       "      <td>2015-01-15 14:00:43</td>\n",
       "      <td>2015-01-15 14:58:40</td>\n",
       "      <td>1</td>\n",
       "      <td>15.20</td>\n",
       "      <td>-73.801262</td>\n",
       "      <td>40.667728</td>\n",
       "      <td>2</td>\n",
       "      <td>N</td>\n",
       "      <td>-73.993355</td>\n",
       "      <td>40.756001</td>\n",
       "      <td>1</td>\n",
       "      <td>52.0</td>\n",
       "      <td>0.0</td>\n",
       "      <td>0.5</td>\n",
       "      <td>14.33</td>\n",
       "      <td>5.33</td>\n",
       "      <td>0.3</td>\n",
       "      <td>72.46</td>\n",
       "    </tr>\n",
       "  </tbody>\n",
       "</table>\n",
       "</div>"
      ],
      "text/plain": [
       "   index  VendorID tpep_pickup_datetime tpep_dropoff_datetime  \\\n",
       "0      8         1  2015-01-10 20:33:39   2015-01-10 21:11:35   \n",
       "1     27         2  2015-01-15 19:05:42   2015-01-15 19:49:07   \n",
       "2     37         1  2015-01-10 19:12:21   2015-01-10 19:46:08   \n",
       "3     58         2  2015-01-25 00:13:09   2015-01-25 01:02:40   \n",
       "4     83         2  2015-01-15 14:00:43   2015-01-15 14:58:40   \n",
       "\n",
       "   passenger_count  trip_distance  pickup_longitude  pickup_latitude  \\\n",
       "0                3          18.20        -73.783043        40.644356   \n",
       "1                1          18.06        -73.786575        40.644127   \n",
       "2                1          16.40        -73.977097        40.763172   \n",
       "3                1          10.20        -73.997612        40.762241   \n",
       "4                1          15.20        -73.801262        40.667728   \n",
       "\n",
       "   RateCodeID store_and_fwd_flag  dropoff_longitude  dropoff_latitude  \\\n",
       "0           2                  N         -73.987595         40.759357   \n",
       "1           2                  N         -73.985603         40.743530   \n",
       "2           2                  N         -73.790710         40.644276   \n",
       "3           1                  N         -73.908577         40.690048   \n",
       "4           2                  N         -73.993355         40.756001   \n",
       "\n",
       "   payment_type  fare_amount  extra  mta_tax  tip_amount  tolls_amount  \\\n",
       "0             2         52.0    0.0      0.5        0.00          5.33   \n",
       "1             1         52.0    0.0      0.5        6.00          5.33   \n",
       "2             1         52.0    0.0      0.5       10.00          0.00   \n",
       "3             2         39.0    0.5      0.5        0.00          0.00   \n",
       "4             1         52.0    0.0      0.5       14.33          5.33   \n",
       "\n",
       "   improvement_surcharge  total_amount  \n",
       "0                    0.3         58.13  \n",
       "1                    0.3         64.13  \n",
       "2                    0.3         62.80  \n",
       "3                    0.3         40.30  \n",
       "4                    0.3         72.46  "
      ]
     },
     "execution_count": 78,
     "metadata": {},
     "output_type": "execute_result"
    }
   ],
   "source": [
    "df_new = pd.read_sql_query('SELECT * FROM chunk_sql WHERE passenger_count <5 AND trip_distance > 10',csv_database)\n",
    "df_new.head()"
   ]
  },
  {
   "cell_type": "code",
   "execution_count": 80,
   "metadata": {},
   "outputs": [],
   "source": [
    "dff = pd.concat([chunk[chunk['passenger_count'] > 3] for chunk in df_chunk])"
   ]
  },
  {
   "cell_type": "code",
   "execution_count": 83,
   "metadata": {},
   "outputs": [
    {
     "data": {
      "text/html": [
       "<div>\n",
       "<style scoped>\n",
       "    .dataframe tbody tr th:only-of-type {\n",
       "        vertical-align: middle;\n",
       "    }\n",
       "\n",
       "    .dataframe tbody tr th {\n",
       "        vertical-align: top;\n",
       "    }\n",
       "\n",
       "    .dataframe thead th {\n",
       "        text-align: right;\n",
       "    }\n",
       "</style>\n",
       "<table border=\"1\" class=\"dataframe\">\n",
       "  <thead>\n",
       "    <tr style=\"text-align: right;\">\n",
       "      <th></th>\n",
       "      <th>VendorID</th>\n",
       "      <th>tpep_pickup_datetime</th>\n",
       "      <th>tpep_dropoff_datetime</th>\n",
       "      <th>passenger_count</th>\n",
       "      <th>trip_distance</th>\n",
       "      <th>pickup_longitude</th>\n",
       "      <th>pickup_latitude</th>\n",
       "      <th>RateCodeID</th>\n",
       "      <th>store_and_fwd_flag</th>\n",
       "      <th>dropoff_longitude</th>\n",
       "      <th>dropoff_latitude</th>\n",
       "      <th>payment_type</th>\n",
       "      <th>fare_amount</th>\n",
       "      <th>extra</th>\n",
       "      <th>mta_tax</th>\n",
       "      <th>tip_amount</th>\n",
       "      <th>tolls_amount</th>\n",
       "      <th>improvement_surcharge</th>\n",
       "      <th>total_amount</th>\n",
       "    </tr>\n",
       "  </thead>\n",
       "  <tbody>\n",
       "    <tr>\n",
       "      <th>16</th>\n",
       "      <td>2</td>\n",
       "      <td>2015-01-15 19:05:40</td>\n",
       "      <td>2015-01-15 19:21:00</td>\n",
       "      <td>5</td>\n",
       "      <td>2.83</td>\n",
       "      <td>-73.968704</td>\n",
       "      <td>40.754246</td>\n",
       "      <td>1</td>\n",
       "      <td>N</td>\n",
       "      <td>-73.955124</td>\n",
       "      <td>40.786858</td>\n",
       "      <td>2</td>\n",
       "      <td>12.5</td>\n",
       "      <td>1.0</td>\n",
       "      <td>0.5</td>\n",
       "      <td>0.00</td>\n",
       "      <td>0.00</td>\n",
       "      <td>0.3</td>\n",
       "      <td>14.30</td>\n",
       "    </tr>\n",
       "    <tr>\n",
       "      <th>17</th>\n",
       "      <td>2</td>\n",
       "      <td>2015-01-15 19:05:40</td>\n",
       "      <td>2015-01-15 19:28:18</td>\n",
       "      <td>5</td>\n",
       "      <td>8.33</td>\n",
       "      <td>-73.863060</td>\n",
       "      <td>40.769581</td>\n",
       "      <td>1</td>\n",
       "      <td>N</td>\n",
       "      <td>-73.952713</td>\n",
       "      <td>40.785782</td>\n",
       "      <td>1</td>\n",
       "      <td>26.0</td>\n",
       "      <td>1.0</td>\n",
       "      <td>0.5</td>\n",
       "      <td>8.08</td>\n",
       "      <td>5.33</td>\n",
       "      <td>0.3</td>\n",
       "      <td>41.21</td>\n",
       "    </tr>\n",
       "    <tr>\n",
       "      <th>24</th>\n",
       "      <td>2</td>\n",
       "      <td>2015-01-15 19:05:41</td>\n",
       "      <td>2015-01-15 19:22:11</td>\n",
       "      <td>5</td>\n",
       "      <td>2.11</td>\n",
       "      <td>-73.997459</td>\n",
       "      <td>40.736362</td>\n",
       "      <td>1</td>\n",
       "      <td>N</td>\n",
       "      <td>-73.978172</td>\n",
       "      <td>40.761856</td>\n",
       "      <td>1</td>\n",
       "      <td>11.5</td>\n",
       "      <td>1.0</td>\n",
       "      <td>0.5</td>\n",
       "      <td>2.50</td>\n",
       "      <td>0.00</td>\n",
       "      <td>0.3</td>\n",
       "      <td>15.80</td>\n",
       "    </tr>\n",
       "    <tr>\n",
       "      <th>25</th>\n",
       "      <td>2</td>\n",
       "      <td>2015-01-15 19:05:41</td>\n",
       "      <td>2015-01-15 19:14:05</td>\n",
       "      <td>5</td>\n",
       "      <td>1.15</td>\n",
       "      <td>-73.952278</td>\n",
       "      <td>40.823994</td>\n",
       "      <td>1</td>\n",
       "      <td>N</td>\n",
       "      <td>-73.953339</td>\n",
       "      <td>40.811089</td>\n",
       "      <td>1</td>\n",
       "      <td>7.5</td>\n",
       "      <td>1.0</td>\n",
       "      <td>0.5</td>\n",
       "      <td>1.70</td>\n",
       "      <td>0.00</td>\n",
       "      <td>0.3</td>\n",
       "      <td>11.00</td>\n",
       "    </tr>\n",
       "    <tr>\n",
       "      <th>29</th>\n",
       "      <td>2</td>\n",
       "      <td>2015-01-15 19:05:42</td>\n",
       "      <td>2015-01-15 19:21:40</td>\n",
       "      <td>6</td>\n",
       "      <td>5.19</td>\n",
       "      <td>-73.985291</td>\n",
       "      <td>40.744083</td>\n",
       "      <td>1</td>\n",
       "      <td>N</td>\n",
       "      <td>-74.009079</td>\n",
       "      <td>40.704689</td>\n",
       "      <td>1</td>\n",
       "      <td>17.5</td>\n",
       "      <td>1.0</td>\n",
       "      <td>0.5</td>\n",
       "      <td>3.70</td>\n",
       "      <td>0.00</td>\n",
       "      <td>0.3</td>\n",
       "      <td>23.00</td>\n",
       "    </tr>\n",
       "  </tbody>\n",
       "</table>\n",
       "</div>"
      ],
      "text/plain": [
       "    VendorID tpep_pickup_datetime tpep_dropoff_datetime  passenger_count  \\\n",
       "16         2  2015-01-15 19:05:40   2015-01-15 19:21:00                5   \n",
       "17         2  2015-01-15 19:05:40   2015-01-15 19:28:18                5   \n",
       "24         2  2015-01-15 19:05:41   2015-01-15 19:22:11                5   \n",
       "25         2  2015-01-15 19:05:41   2015-01-15 19:14:05                5   \n",
       "29         2  2015-01-15 19:05:42   2015-01-15 19:21:40                6   \n",
       "\n",
       "    trip_distance  pickup_longitude  pickup_latitude  RateCodeID  \\\n",
       "16           2.83        -73.968704        40.754246           1   \n",
       "17           8.33        -73.863060        40.769581           1   \n",
       "24           2.11        -73.997459        40.736362           1   \n",
       "25           1.15        -73.952278        40.823994           1   \n",
       "29           5.19        -73.985291        40.744083           1   \n",
       "\n",
       "   store_and_fwd_flag  dropoff_longitude  dropoff_latitude  payment_type  \\\n",
       "16                  N         -73.955124         40.786858             2   \n",
       "17                  N         -73.952713         40.785782             1   \n",
       "24                  N         -73.978172         40.761856             1   \n",
       "25                  N         -73.953339         40.811089             1   \n",
       "29                  N         -74.009079         40.704689             1   \n",
       "\n",
       "    fare_amount  extra  mta_tax  tip_amount  tolls_amount  \\\n",
       "16         12.5    1.0      0.5        0.00          0.00   \n",
       "17         26.0    1.0      0.5        8.08          5.33   \n",
       "24         11.5    1.0      0.5        2.50          0.00   \n",
       "25          7.5    1.0      0.5        1.70          0.00   \n",
       "29         17.5    1.0      0.5        3.70          0.00   \n",
       "\n",
       "    improvement_surcharge  total_amount  \n",
       "16                    0.3         14.30  \n",
       "17                    0.3         41.21  \n",
       "24                    0.3         15.80  \n",
       "25                    0.3         11.00  \n",
       "29                    0.3         23.00  "
      ]
     },
     "execution_count": 83,
     "metadata": {},
     "output_type": "execute_result"
    }
   ],
   "source": [
    "dff.head()"
   ]
  },
  {
   "cell_type": "markdown",
   "metadata": {},
   "source": [
    "Правильный вариант"
   ]
  },
  {
   "cell_type": "code",
   "execution_count": 1,
   "metadata": {},
   "outputs": [],
   "source": [
    "import os \n",
    "import glob\n",
    "\n",
    "import numpy as np\n",
    "\n",
    "import pandas as pd\n",
    "pd.set_option('display.max_columns', 500)\n",
    "from tqdm.notebook import tqdm"
   ]
  },
  {
   "cell_type": "code",
   "execution_count": 2,
   "metadata": {},
   "outputs": [],
   "source": [
    "import vaex"
   ]
  },
  {
   "cell_type": "code",
   "execution_count": 5,
   "metadata": {},
   "outputs": [],
   "source": [
    "columns = [\"VendorID\",\"tpep_pickup_datetime\",\"tpep_dropoff_datetime\",\"passenger_count\",\"trip_distance\",\"pickup_longitude\",\n",
    "\"pickup_latitude\",\"RateCodeID\",\"store_and_fwd_flag\",\"dropoff_longitude\",\"dropoff_latitude\",\"payment_type\",\"fare_amount\",\"extra\",\n",
    "\"mta_tax\",\"tip_amount\",\"tolls_amount\",\"improvement_surcharge\",\"total_amount\"]"
   ]
  },
  {
   "cell_type": "code",
   "execution_count": 23,
   "metadata": {},
   "outputs": [],
   "source": [
    "dtypes = {\n",
    "'VendorID':np.int64,\n",
    "'tpep_pickup_datetime':np.object,\n",
    "'tpep_dropoff_datetime':np.object,\n",
    "'passenger_count':np.int64,\n",
    "'trip_distance':np.float64,\n",
    "'pickup_longitude':np.float64,\n",
    "'pickup_latitude':np.float64,\n",
    "'RateCodeID':np.int64,\n",
    "'store_and_fwd_flag':np.object,\n",
    "'dropoff_longitude':np.float64,\n",
    "'dropoff_latitude':np.float64,\n",
    "'payment_type':np.int16,\n",
    "'fare_amount':np.float64,\n",
    "'extra':np.float64,\n",
    "'mta_tax':np.float64,\n",
    "'tip_amount':np.float64,\n",
    "'tolls_amount':np.float64,\n",
    "'improvement_surcharge':np.float64,\n",
    "'total_amount':np.float64\n",
    "};"
   ]
  },
  {
   "cell_type": "code",
   "execution_count": 38,
   "metadata": {},
   "outputs": [],
   "source": [
    "output_dir = 'D:/'"
   ]
  },
  {
   "cell_type": "code",
   "execution_count": 42,
   "metadata": {},
   "outputs": [
    {
     "data": {
      "text/plain": [
       "'YT Data\\\\yellow_tripdata_2015-12.hdf5'"
      ]
     },
     "execution_count": 42,
     "metadata": {},
     "output_type": "execute_result"
    }
   ],
   "source": [
    "files_list[0].split('/')[-1][:-3]+'hdf5'"
   ]
  },
  {
   "cell_type": "code",
   "execution_count": null,
   "metadata": {},
   "outputs": [],
   "source": [
    "files_list=np.sort(np.array(glob.glob('D:/YT Data/*.csv')))[::-1]"
   ]
  },
  {
   "cell_type": "code",
   "execution_count": null,
   "metadata": {},
   "outputs": [
    {
     "data": {
      "application/vnd.jupyter.widget-view+json": {
       "model_id": "d49ed91e8b354a5799444d759bc76c99",
       "version_major": 2,
       "version_minor": 0
      },
      "text/plain": [
       "HBox(children=(HTML(value='Converting to hdf5...'), FloatProgress(value=0.0, max=12.0), HTML(value='')))"
      ]
     },
     "metadata": {},
     "output_type": "display_data"
    }
   ],
   "source": [
    "for file in tqdm(files_list, leave=False, desc='Converting to hdf5...'):\n",
    "    output_file = file.split('/')[-1][:-3]+'hdf5'\n",
    "    output = output_dir + output_file\n",
    "    \n",
    "    # Check if a converted file already exists: if it does skip it, otherwise read in the raw csv and convert it\n",
    "    if (os.path.exists(output) and os.path.isfile(output)):\n",
    "        pass\n",
    "    else:\n",
    "        # Importing the data into pandas \n",
    "        pandas_df = pd.read_csv(file)\n",
    "        # Importing the data from pandas to vaex\n",
    "        vaex_df = vaex.from_pandas(pandas_df, copy_index=False)\n",
    "        \n",
    "        # Export the data with vaex to hdf5\n",
    "        vaex_df.export_hdf5(path=output, progress=False)\n"
   ]
  },
  {
   "cell_type": "code",
   "execution_count": 3,
   "metadata": {},
   "outputs": [],
   "source": [
    "df = vaex.open('D:/YT Data\\\\yellow_tripdata_2015-12.hdf5')"
   ]
  },
  {
   "cell_type": "code",
   "execution_count": 4,
   "metadata": {},
   "outputs": [
    {
     "data": {
      "text/html": [
       "<table>\n",
       "<thead>\n",
       "<tr><th>#                                     </th><th>VendorID  </th><th>tpep_pickup_datetime  </th><th>tpep_dropoff_datetime  </th><th>passenger_count  </th><th>trip_distance  </th><th>pickup_longitude  </th><th>pickup_latitude  </th><th>RatecodeID  </th><th>store_and_fwd_flag  </th><th>dropoff_longitude  </th><th>dropoff_latitude  </th><th>payment_type  </th><th>fare_amount  </th><th>extra  </th><th>mta_tax  </th><th>tip_amount  </th><th>tolls_amount  </th><th>improvement_surcharge  </th><th>total_amount  </th></tr>\n",
       "</thead>\n",
       "<tbody>\n",
       "<tr><td><i style='opacity: 0.6'>0</i>         </td><td>2         </td><td>&#x27;2015-12-01 00:00:00&#x27; </td><td>&#x27;2015-12-01 00:05:16&#x27;  </td><td>5                </td><td>0.96           </td><td>-73.97994232177734</td><td>40.765380859375  </td><td>1           </td><td>&#x27;N&#x27;                 </td><td>-73.96630859375    </td><td>40.76308822631836 </td><td>1             </td><td>5.5          </td><td>0.5    </td><td>0.5      </td><td>1.0         </td><td>0.0           </td><td>0.3                    </td><td>7.8           </td></tr>\n",
       "<tr><td><i style='opacity: 0.6'>1</i>         </td><td>2         </td><td>&#x27;2015-12-01 00:00:00&#x27; </td><td>&#x27;2015-12-01 00:00:00&#x27;  </td><td>2                </td><td>2.69           </td><td>-73.97233581542969</td><td>40.76237869262695</td><td>1           </td><td>&#x27;N&#x27;                 </td><td>-73.9936294555664  </td><td>40.74599838256836 </td><td>1             </td><td>21.5         </td><td>0.0    </td><td>0.5      </td><td>3.34        </td><td>0.0           </td><td>0.3                    </td><td>25.64         </td></tr>\n",
       "<tr><td><i style='opacity: 0.6'>2</i>         </td><td>2         </td><td>&#x27;2015-12-01 00:00:00&#x27; </td><td>&#x27;2015-12-01 00:00:00&#x27;  </td><td>1                </td><td>2.62           </td><td>-73.9688491821289 </td><td>40.76453018188477</td><td>1           </td><td>&#x27;N&#x27;                 </td><td>-73.97454833984375 </td><td>40.79164123535156 </td><td>1             </td><td>17.0         </td><td>0.0    </td><td>0.5      </td><td>3.56        </td><td>0.0           </td><td>0.3                    </td><td>21.36         </td></tr>\n",
       "<tr><td><i style='opacity: 0.6'>3</i>         </td><td>1         </td><td>&#x27;2015-12-01 00:00:01&#x27; </td><td>&#x27;2015-12-01 00:05:56&#x27;  </td><td>1                </td><td>1.2            </td><td>-73.99393463134766</td><td>40.74168395996094</td><td>1           </td><td>&#x27;N&#x27;                 </td><td>-73.99766540527344 </td><td>40.747467041015625</td><td>1             </td><td>6.5          </td><td>0.5    </td><td>0.5      </td><td>0.2         </td><td>0.0           </td><td>0.3                    </td><td>8.0           </td></tr>\n",
       "<tr><td><i style='opacity: 0.6'>4</i>         </td><td>1         </td><td>&#x27;2015-12-01 00:00:01&#x27; </td><td>&#x27;2015-12-01 00:09:28&#x27;  </td><td>2                </td><td>3.0            </td><td>-73.98892211914062</td><td>40.72698974609375</td><td>1           </td><td>&#x27;N&#x27;                 </td><td>-73.97559356689453 </td><td>40.696868896484375</td><td>2             </td><td>11.0         </td><td>0.5    </td><td>0.5      </td><td>0.0         </td><td>0.0           </td><td>0.3                    </td><td>12.3          </td></tr>\n",
       "<tr><td>...                                   </td><td>...       </td><td>...                   </td><td>...                    </td><td>...              </td><td>...            </td><td>...               </td><td>...              </td><td>...         </td><td>...                 </td><td>...                </td><td>...               </td><td>...           </td><td>...          </td><td>...    </td><td>...      </td><td>...         </td><td>...           </td><td>...                    </td><td>...           </td></tr>\n",
       "<tr><td><i style='opacity: 0.6'>11,460,568</i></td><td>2         </td><td>&#x27;2015-12-31 23:59:56&#x27; </td><td>&#x27;2016-01-01 00:08:18&#x27;  </td><td>5                </td><td>1.2            </td><td>-73.99381256103516</td><td>40.72087097167969</td><td>1           </td><td>&#x27;N&#x27;                 </td><td>-73.98621368408203 </td><td>40.722469329833984</td><td>1             </td><td>7.5          </td><td>0.5    </td><td>0.5      </td><td>1.76        </td><td>0.0           </td><td>0.3                    </td><td>10.56         </td></tr>\n",
       "<tr><td><i style='opacity: 0.6'>11,460,569</i></td><td>1         </td><td>&#x27;2015-12-31 23:59:58&#x27; </td><td>&#x27;2016-01-01 00:05:19&#x27;  </td><td>2                </td><td>2.0            </td><td>-73.96527099609375</td><td>40.76028060913085</td><td>1           </td><td>&#x27;N&#x27;                 </td><td>-73.93951416015625 </td><td>40.75238800048828 </td><td>2             </td><td>7.5          </td><td>0.5    </td><td>0.5      </td><td>0.0         </td><td>0.0           </td><td>0.3                    </td><td>8.8           </td></tr>\n",
       "<tr><td><i style='opacity: 0.6'>11,460,570</i></td><td>1         </td><td>&#x27;2015-12-31 23:59:59&#x27; </td><td>&#x27;2016-01-01 00:12:55&#x27;  </td><td>2                </td><td>3.8            </td><td>-73.98729705810547</td><td>40.73907852172852</td><td>1           </td><td>&#x27;N&#x27;                 </td><td>-73.9886703491211  </td><td>40.69329833984375 </td><td>2             </td><td>13.5         </td><td>0.5    </td><td>0.5      </td><td>0.0         </td><td>0.0           </td><td>0.3                    </td><td>14.8          </td></tr>\n",
       "<tr><td><i style='opacity: 0.6'>11,460,571</i></td><td>2         </td><td>&#x27;2015-12-31 23:59:59&#x27; </td><td>&#x27;2016-01-01 00:10:26&#x27;  </td><td>1                </td><td>1.96           </td><td>-73.99755859375   </td><td>40.72569274902344</td><td>1           </td><td>&#x27;N&#x27;                 </td><td>-74.01712036132812 </td><td>40.705322265625   </td><td>2             </td><td>8.5          </td><td>0.5    </td><td>0.5      </td><td>0.0         </td><td>0.0           </td><td>0.3                    </td><td>9.8           </td></tr>\n",
       "<tr><td><i style='opacity: 0.6'>11,460,572</i></td><td>2         </td><td>&#x27;2015-12-31 23:59:59&#x27; </td><td>&#x27;2016-01-01 00:21:30&#x27;  </td><td>1                </td><td>1.06           </td><td>-73.98439788818358</td><td>40.76725769042969</td><td>1           </td><td>&#x27;N&#x27;                 </td><td>-73.99098205566406 </td><td>40.76057052612305 </td><td>1             </td><td>13.5         </td><td>0.5    </td><td>0.5      </td><td>2.96        </td><td>0.0           </td><td>0.3                    </td><td>17.76         </td></tr>\n",
       "</tbody>\n",
       "</table>"
      ],
      "text/plain": [
       "#           VendorID    tpep_pickup_datetime    tpep_dropoff_datetime    passenger_count    trip_distance    pickup_longitude    pickup_latitude    RatecodeID    store_and_fwd_flag    dropoff_longitude    dropoff_latitude    payment_type    fare_amount    extra    mta_tax    tip_amount    tolls_amount    improvement_surcharge    total_amount\n",
       "0           2           '2015-12-01 00:00:00'   '2015-12-01 00:05:16'    5                  0.96             -73.97994232177734  40.765380859375    1             'N'                   -73.96630859375      40.76308822631836   1               5.5            0.5      0.5        1.0           0.0             0.3                      7.8\n",
       "1           2           '2015-12-01 00:00:00'   '2015-12-01 00:00:00'    2                  2.69             -73.97233581542969  40.76237869262695  1             'N'                   -73.9936294555664    40.74599838256836   1               21.5           0.0      0.5        3.34          0.0             0.3                      25.64\n",
       "2           2           '2015-12-01 00:00:00'   '2015-12-01 00:00:00'    1                  2.62             -73.9688491821289   40.76453018188477  1             'N'                   -73.97454833984375   40.79164123535156   1               17.0           0.0      0.5        3.56          0.0             0.3                      21.36\n",
       "3           1           '2015-12-01 00:00:01'   '2015-12-01 00:05:56'    1                  1.2              -73.99393463134766  40.74168395996094  1             'N'                   -73.99766540527344   40.747467041015625  1               6.5            0.5      0.5        0.2           0.0             0.3                      8.0\n",
       "4           1           '2015-12-01 00:00:01'   '2015-12-01 00:09:28'    2                  3.0              -73.98892211914062  40.72698974609375  1             'N'                   -73.97559356689453   40.696868896484375  2               11.0           0.5      0.5        0.0           0.0             0.3                      12.3\n",
       "...         ...         ...                     ...                      ...                ...              ...                 ...                ...           ...                   ...                  ...                 ...             ...            ...      ...        ...           ...             ...                      ...\n",
       "11,460,568  2           '2015-12-31 23:59:56'   '2016-01-01 00:08:18'    5                  1.2              -73.99381256103516  40.72087097167969  1             'N'                   -73.98621368408203   40.722469329833984  1               7.5            0.5      0.5        1.76          0.0             0.3                      10.56\n",
       "11,460,569  1           '2015-12-31 23:59:58'   '2016-01-01 00:05:19'    2                  2.0              -73.96527099609375  40.76028060913085  1             'N'                   -73.93951416015625   40.75238800048828   2               7.5            0.5      0.5        0.0           0.0             0.3                      8.8\n",
       "11,460,570  1           '2015-12-31 23:59:59'   '2016-01-01 00:12:55'    2                  3.8              -73.98729705810547  40.73907852172852  1             'N'                   -73.9886703491211    40.69329833984375   2               13.5           0.5      0.5        0.0           0.0             0.3                      14.8\n",
       "11,460,571  2           '2015-12-31 23:59:59'   '2016-01-01 00:10:26'    1                  1.96             -73.99755859375     40.72569274902344  1             'N'                   -74.01712036132812   40.705322265625     2               8.5            0.5      0.5        0.0           0.0             0.3                      9.8\n",
       "11,460,572  2           '2015-12-31 23:59:59'   '2016-01-01 00:21:30'    1                  1.06             -73.98439788818358  40.76725769042969  1             'N'                   -73.99098205566406   40.76057052612305   1               13.5           0.5      0.5        2.96          0.0             0.3                      17.76"
      ]
     },
     "execution_count": 4,
     "metadata": {},
     "output_type": "execute_result"
    }
   ],
   "source": [
    "df"
   ]
  },
  {
   "cell_type": "code",
   "execution_count": 5,
   "metadata": {},
   "outputs": [],
   "source": [
    "df1=vaex.open('D:/YT Data\\\\yellow_tripdata_2015-11.hdf5')"
   ]
  },
  {
   "cell_type": "code",
   "execution_count": 6,
   "metadata": {},
   "outputs": [
    {
     "data": {
      "text/html": [
       "<table>\n",
       "<thead>\n",
       "<tr><th>#                                     </th><th>VendorID  </th><th>tpep_pickup_datetime  </th><th>tpep_dropoff_datetime  </th><th>passenger_count  </th><th>trip_distance  </th><th>pickup_longitude  </th><th>pickup_latitude   </th><th>RatecodeID  </th><th>store_and_fwd_flag  </th><th>dropoff_longitude  </th><th>dropoff_latitude  </th><th>payment_type  </th><th>fare_amount  </th><th>extra  </th><th>mta_tax  </th><th>tip_amount  </th><th>tolls_amount  </th><th>improvement_surcharge  </th><th>total_amount  </th></tr>\n",
       "</thead>\n",
       "<tbody>\n",
       "<tr><td><i style='opacity: 0.6'>0</i>         </td><td>1         </td><td>&#x27;2015-11-01 00:00:00&#x27; </td><td>&#x27;2015-11-01 00:26:00&#x27;  </td><td>1                </td><td>2.9            </td><td>-73.98399353027342</td><td>40.72949981689453 </td><td>1           </td><td>&#x27;N&#x27;                 </td><td>-73.98455047607422 </td><td>40.75917053222656 </td><td>2             </td><td>17.5         </td><td>0.5    </td><td>0.0      </td><td>0.0         </td><td>0.0           </td><td>0.0                    </td><td>0.0           </td></tr>\n",
       "<tr><td><i style='opacity: 0.6'>1</i>         </td><td>1         </td><td>&#x27;2015-11-01 00:00:00&#x27; </td><td>&#x27;2015-11-01 00:08:24&#x27;  </td><td>1                </td><td>0.8            </td><td>-73.9840087890625 </td><td>40.76528930664063 </td><td>1           </td><td>&#x27;N&#x27;                 </td><td>-73.99043273925781 </td><td>40.75932693481445 </td><td>1             </td><td>7.0          </td><td>0.5    </td><td>0.0      </td><td>0.0         </td><td>0.0           </td><td>0.0                    </td><td>0.0           </td></tr>\n",
       "<tr><td><i style='opacity: 0.6'>2</i>         </td><td>2         </td><td>&#x27;2015-11-01 00:00:00&#x27; </td><td>&#x27;2015-11-01 00:12:17&#x27;  </td><td>1                </td><td>0.74           </td><td>-74.00261688232422</td><td>40.73405838012695 </td><td>1           </td><td>&#x27;N&#x27;                 </td><td>-74.00436401367188 </td><td>40.7406005859375  </td><td>2             </td><td>8.5          </td><td>0.5    </td><td>0.0      </td><td>0.0         </td><td>0.0           </td><td>0.0                    </td><td>0.0           </td></tr>\n",
       "<tr><td><i style='opacity: 0.6'>3</i>         </td><td>2         </td><td>&#x27;2015-11-01 00:00:00&#x27; </td><td>&#x27;2015-11-01 00:25:08&#x27;  </td><td>1                </td><td>2.89           </td><td>-73.98731231689453</td><td>40.718711853027344</td><td>1           </td><td>&#x27;N&#x27;                 </td><td>-73.9915771484375  </td><td>40.74911880493164 </td><td>1             </td><td>16.5         </td><td>0.5    </td><td>0.0      </td><td>0.0         </td><td>0.0           </td><td>0.0                    </td><td>0.0           </td></tr>\n",
       "<tr><td><i style='opacity: 0.6'>4</i>         </td><td>2         </td><td>&#x27;2015-11-01 00:00:00&#x27; </td><td>&#x27;2015-11-01 00:19:44&#x27;  </td><td>1                </td><td>5.07           </td><td>-73.94992828369139</td><td>40.77219009399415 </td><td>1           </td><td>&#x27;N&#x27;                 </td><td>-73.98812103271484 </td><td>40.72291946411133 </td><td>2             </td><td>18.0         </td><td>0.5    </td><td>0.0      </td><td>0.0         </td><td>0.0           </td><td>0.0                    </td><td>0.0           </td></tr>\n",
       "<tr><td>...                                   </td><td>...       </td><td>...                   </td><td>...                    </td><td>...              </td><td>...            </td><td>...               </td><td>...               </td><td>...         </td><td>...                 </td><td>...                </td><td>...               </td><td>...           </td><td>...          </td><td>...    </td><td>...      </td><td>...         </td><td>...           </td><td>...                    </td><td>...           </td></tr>\n",
       "<tr><td><i style='opacity: 0.6'>11,312,671</i></td><td>1         </td><td>&#x27;2015-11-30 21:04:15&#x27; </td><td>&#x27;2015-11-30 21:12:47&#x27;  </td><td>1                </td><td>1.4            </td><td>-73.9365005493164 </td><td>40.75829315185547 </td><td>1           </td><td>&#x27;N&#x27;                 </td><td>-73.9365005493164  </td><td>40.75829315185547 </td><td>1             </td><td>8.0          </td><td>0.0    </td><td>0.0      </td><td>0.0         </td><td>0.0           </td><td>0.0                    </td><td>0.0           </td></tr>\n",
       "<tr><td><i style='opacity: 0.6'>11,312,672</i></td><td>1         </td><td>&#x27;2015-11-30 21:13:51&#x27; </td><td>&#x27;2015-11-30 21:19:56&#x27;  </td><td>1                </td><td>1.4            </td><td>-73.9365005493164 </td><td>40.75829315185547 </td><td>1           </td><td>&#x27;N&#x27;                 </td><td>-73.9365005493164  </td><td>40.75829315185547 </td><td>2             </td><td>7.0          </td><td>0.0    </td><td>0.0      </td><td>0.0         </td><td>0.0           </td><td>0.0                    </td><td>0.0           </td></tr>\n",
       "<tr><td><i style='opacity: 0.6'>11,312,673</i></td><td>1         </td><td>&#x27;2015-11-30 21:44:28&#x27; </td><td>&#x27;2015-11-30 21:46:28&#x27;  </td><td>1                </td><td>0.4            </td><td>-73.9365005493164 </td><td>40.75829315185547 </td><td>1           </td><td>&#x27;N&#x27;                 </td><td>-73.9365005493164  </td><td>40.75829315185547 </td><td>2             </td><td>3.5          </td><td>0.0    </td><td>0.0      </td><td>0.0         </td><td>0.0           </td><td>0.0                    </td><td>0.0           </td></tr>\n",
       "<tr><td><i style='opacity: 0.6'>11,312,674</i></td><td>1         </td><td>&#x27;2015-11-30 21:49:12&#x27; </td><td>&#x27;2015-11-30 22:03:25&#x27;  </td><td>1                </td><td>3.0            </td><td>-73.9365005493164 </td><td>40.75829315185547 </td><td>1           </td><td>&#x27;N&#x27;                 </td><td>-73.9365005493164  </td><td>40.75829315185547 </td><td>1             </td><td>13.0         </td><td>0.0    </td><td>0.0      </td><td>0.0         </td><td>0.0           </td><td>0.0                    </td><td>0.0           </td></tr>\n",
       "<tr><td><i style='opacity: 0.6'>11,312,675</i></td><td>1         </td><td>&#x27;2015-11-30 22:13:04&#x27; </td><td>&#x27;2015-11-30 22:26:45&#x27;  </td><td>1                </td><td>2.8            </td><td>-73.9365005493164 </td><td>40.75829315185547 </td><td>1           </td><td>&#x27;N&#x27;                 </td><td>-73.9365005493164  </td><td>40.75829315185547 </td><td>1             </td><td>12.0         </td><td>0.0    </td><td>0.0      </td><td>0.0         </td><td>0.0           </td><td>0.0                    </td><td>0.0           </td></tr>\n",
       "</tbody>\n",
       "</table>"
      ],
      "text/plain": [
       "#           VendorID    tpep_pickup_datetime    tpep_dropoff_datetime    passenger_count    trip_distance    pickup_longitude    pickup_latitude     RatecodeID    store_and_fwd_flag    dropoff_longitude    dropoff_latitude    payment_type    fare_amount    extra    mta_tax    tip_amount    tolls_amount    improvement_surcharge    total_amount\n",
       "0           1           '2015-11-01 00:00:00'   '2015-11-01 00:26:00'    1                  2.9              -73.98399353027342  40.72949981689453   1             'N'                   -73.98455047607422   40.75917053222656   2               17.5           0.5      0.0        0.0           0.0             0.0                      0.0\n",
       "1           1           '2015-11-01 00:00:00'   '2015-11-01 00:08:24'    1                  0.8              -73.9840087890625   40.76528930664063   1             'N'                   -73.99043273925781   40.75932693481445   1               7.0            0.5      0.0        0.0           0.0             0.0                      0.0\n",
       "2           2           '2015-11-01 00:00:00'   '2015-11-01 00:12:17'    1                  0.74             -74.00261688232422  40.73405838012695   1             'N'                   -74.00436401367188   40.7406005859375    2               8.5            0.5      0.0        0.0           0.0             0.0                      0.0\n",
       "3           2           '2015-11-01 00:00:00'   '2015-11-01 00:25:08'    1                  2.89             -73.98731231689453  40.718711853027344  1             'N'                   -73.9915771484375    40.74911880493164   1               16.5           0.5      0.0        0.0           0.0             0.0                      0.0\n",
       "4           2           '2015-11-01 00:00:00'   '2015-11-01 00:19:44'    1                  5.07             -73.94992828369139  40.77219009399415   1             'N'                   -73.98812103271484   40.72291946411133   2               18.0           0.5      0.0        0.0           0.0             0.0                      0.0\n",
       "...         ...         ...                     ...                      ...                ...              ...                 ...                 ...           ...                   ...                  ...                 ...             ...            ...      ...        ...           ...             ...                      ...\n",
       "11,312,671  1           '2015-11-30 21:04:15'   '2015-11-30 21:12:47'    1                  1.4              -73.9365005493164   40.75829315185547   1             'N'                   -73.9365005493164    40.75829315185547   1               8.0            0.0      0.0        0.0           0.0             0.0                      0.0\n",
       "11,312,672  1           '2015-11-30 21:13:51'   '2015-11-30 21:19:56'    1                  1.4              -73.9365005493164   40.75829315185547   1             'N'                   -73.9365005493164    40.75829315185547   2               7.0            0.0      0.0        0.0           0.0             0.0                      0.0\n",
       "11,312,673  1           '2015-11-30 21:44:28'   '2015-11-30 21:46:28'    1                  0.4              -73.9365005493164   40.75829315185547   1             'N'                   -73.9365005493164    40.75829315185547   2               3.5            0.0      0.0        0.0           0.0             0.0                      0.0\n",
       "11,312,674  1           '2015-11-30 21:49:12'   '2015-11-30 22:03:25'    1                  3.0              -73.9365005493164   40.75829315185547   1             'N'                   -73.9365005493164    40.75829315185547   1               13.0           0.0      0.0        0.0           0.0             0.0                      0.0\n",
       "11,312,675  1           '2015-11-30 22:13:04'   '2015-11-30 22:26:45'    1                  2.8              -73.9365005493164   40.75829315185547   1             'N'                   -73.9365005493164    40.75829315185547   1               12.0           0.0      0.0        0.0           0.0             0.0                      0.0"
      ]
     },
     "execution_count": 6,
     "metadata": {},
     "output_type": "execute_result"
    }
   ],
   "source": [
    "df1"
   ]
  },
  {
   "cell_type": "code",
   "execution_count": 7,
   "metadata": {},
   "outputs": [],
   "source": [
    "df_filtered=df[df.VendorID==1]"
   ]
  },
  {
   "cell_type": "code",
   "execution_count": 5,
   "metadata": {},
   "outputs": [
    {
     "data": {
      "text/plain": [
       "Expression = passenger_count\n",
       "Length: 11,460,573 dtype: int64 (column)\n",
       "----------------------------------------\n",
       "       0  5\n",
       "       1  2\n",
       "       2  1\n",
       "       3  1\n",
       "       4  2\n",
       "    ...    \n",
       "11460568  5\n",
       "11460569  2\n",
       "11460570  2\n",
       "11460571  1\n",
       "11460572  1"
      ]
     },
     "execution_count": 5,
     "metadata": {},
     "output_type": "execute_result"
    }
   ],
   "source": [
    "df.passenger_count"
   ]
  },
  {
   "cell_type": "code",
   "execution_count": 7,
   "metadata": {},
   "outputs": [],
   "source": [
    "import numpy as np\n",
    "import pylab as plt\n",
    "import seaborn as sns"
   ]
  },
  {
   "cell_type": "code",
   "execution_count": 8,
   "metadata": {},
   "outputs": [],
   "source": [
    "SMALL_SIZE = 12\n",
    "MEDIUM_SIZE = 14\n",
    "BIGGER_SIZE = 16\n",
    "\n",
    "plt.rc('font', size=SMALL_SIZE)          # controls default text sizes\n",
    "plt.rc('axes', titlesize=SMALL_SIZE)     # fontsize of the axes title\n",
    "plt.rc('axes', labelsize=MEDIUM_SIZE)    # fontsize of the x and y labels\n",
    "plt.rc('xtick', labelsize=SMALL_SIZE)    # fontsize of the tick labels\n",
    "plt.rc('ytick', labelsize=SMALL_SIZE)    # fontsize of the tick labels\n",
    "plt.rc('legend', fontsize=SMALL_SIZE)    # legend fontsize\n",
    "plt.rc('figure', titlesize=BIGGER_SIZE)  # fontsize of the figure title"
   ]
  },
  {
   "cell_type": "code",
   "execution_count": 9,
   "metadata": {},
   "outputs": [],
   "source": [
    "passengers=df.passenger_count.value_counts()"
   ]
  },
  {
   "cell_type": "code",
   "execution_count": 10,
   "metadata": {},
   "outputs": [
    {
     "data": {
      "text/plain": [
       "1    8011559\n",
       "2    1696099\n",
       "5     615113\n",
       "3     498487\n",
       "6     379160\n",
       "4     259581\n",
       "0        525\n",
       "7         22\n",
       "9         14\n",
       "8         13\n",
       "dtype: int64"
      ]
     },
     "execution_count": 10,
     "metadata": {},
     "output_type": "execute_result"
    }
   ],
   "source": [
    "passengers"
   ]
  },
  {
   "cell_type": "code",
   "execution_count": 11,
   "metadata": {
    "scrolled": true
   },
   "outputs": [
    {
     "data": {
      "image/png": "[encoded data removed]",
      "text/plain": [
       "<Figure size 432x288 with 1 Axes>"
      ]
     },
     "metadata": {
      "needs_background": "light"
     },
     "output_type": "display_data"
    }
   ],
   "source": [
    "sns.barplot(x=passengers.index,y=passengers.values)\n",
    "plt.xlabel('Amount of passengers')\n",
    "plt.ylabel('Amount of trips')\n",
    "plt.show()"
   ]
  },
  {
   "cell_type": "code",
   "execution_count": 12,
   "metadata": {},
   "outputs": [
    {
     "data": {
      "text/html": [
       "<table>\n",
       "<thead>\n",
       "<tr><th>#                                     </th><th>VendorID  </th><th>tpep_pickup_datetime  </th><th>tpep_dropoff_datetime  </th><th>passenger_count  </th><th>trip_distance  </th><th>pickup_longitude  </th><th>pickup_latitude  </th><th>RatecodeID  </th><th>store_and_fwd_flag  </th><th>dropoff_longitude  </th><th>dropoff_latitude  </th><th>payment_type  </th><th>fare_amount  </th><th>extra  </th><th>mta_tax  </th><th>tip_amount  </th><th>tolls_amount  </th><th>improvement_surcharge  </th><th>total_amount  </th></tr>\n",
       "</thead>\n",
       "<tbody>\n",
       "<tr><td><i style='opacity: 0.6'>0</i>         </td><td>2         </td><td>&#x27;2015-12-01 00:00:00&#x27; </td><td>&#x27;2015-12-01 00:05:16&#x27;  </td><td>5                </td><td>0.96           </td><td>-73.97994232177734</td><td>40.765380859375  </td><td>1           </td><td>&#x27;N&#x27;                 </td><td>-73.96630859375    </td><td>40.76308822631836 </td><td>1             </td><td>5.5          </td><td>0.5    </td><td>0.5      </td><td>1.0         </td><td>0.0           </td><td>0.3                    </td><td>7.8           </td></tr>\n",
       "<tr><td><i style='opacity: 0.6'>1</i>         </td><td>2         </td><td>&#x27;2015-12-01 00:00:00&#x27; </td><td>&#x27;2015-12-01 00:00:00&#x27;  </td><td>2                </td><td>2.69           </td><td>-73.97233581542969</td><td>40.76237869262695</td><td>1           </td><td>&#x27;N&#x27;                 </td><td>-73.9936294555664  </td><td>40.74599838256836 </td><td>1             </td><td>21.5         </td><td>0.0    </td><td>0.5      </td><td>3.34        </td><td>0.0           </td><td>0.3                    </td><td>25.64         </td></tr>\n",
       "<tr><td><i style='opacity: 0.6'>2</i>         </td><td>2         </td><td>&#x27;2015-12-01 00:00:00&#x27; </td><td>&#x27;2015-12-01 00:00:00&#x27;  </td><td>1                </td><td>2.62           </td><td>-73.9688491821289 </td><td>40.76453018188477</td><td>1           </td><td>&#x27;N&#x27;                 </td><td>-73.97454833984375 </td><td>40.79164123535156 </td><td>1             </td><td>17.0         </td><td>0.0    </td><td>0.5      </td><td>3.56        </td><td>0.0           </td><td>0.3                    </td><td>21.36         </td></tr>\n",
       "<tr><td><i style='opacity: 0.6'>3</i>         </td><td>1         </td><td>&#x27;2015-12-01 00:00:01&#x27; </td><td>&#x27;2015-12-01 00:05:56&#x27;  </td><td>1                </td><td>1.2            </td><td>-73.99393463134766</td><td>40.74168395996094</td><td>1           </td><td>&#x27;N&#x27;                 </td><td>-73.99766540527344 </td><td>40.747467041015625</td><td>1             </td><td>6.5          </td><td>0.5    </td><td>0.5      </td><td>0.2         </td><td>0.0           </td><td>0.3                    </td><td>8.0           </td></tr>\n",
       "<tr><td><i style='opacity: 0.6'>4</i>         </td><td>1         </td><td>&#x27;2015-12-01 00:00:01&#x27; </td><td>&#x27;2015-12-01 00:09:28&#x27;  </td><td>2                </td><td>3.0            </td><td>-73.98892211914062</td><td>40.72698974609375</td><td>1           </td><td>&#x27;N&#x27;                 </td><td>-73.97559356689453 </td><td>40.696868896484375</td><td>2             </td><td>11.0         </td><td>0.5    </td><td>0.5      </td><td>0.0         </td><td>0.0           </td><td>0.3                    </td><td>12.3          </td></tr>\n",
       "<tr><td>...                                   </td><td>...       </td><td>...                   </td><td>...                    </td><td>...              </td><td>...            </td><td>...               </td><td>...              </td><td>...         </td><td>...                 </td><td>...                </td><td>...               </td><td>...           </td><td>...          </td><td>...    </td><td>...      </td><td>...         </td><td>...           </td><td>...                    </td><td>...           </td></tr>\n",
       "<tr><td><i style='opacity: 0.6'>11,460,568</i></td><td>2         </td><td>&#x27;2015-12-31 23:59:56&#x27; </td><td>&#x27;2016-01-01 00:08:18&#x27;  </td><td>5                </td><td>1.2            </td><td>-73.99381256103516</td><td>40.72087097167969</td><td>1           </td><td>&#x27;N&#x27;                 </td><td>-73.98621368408203 </td><td>40.722469329833984</td><td>1             </td><td>7.5          </td><td>0.5    </td><td>0.5      </td><td>1.76        </td><td>0.0           </td><td>0.3                    </td><td>10.56         </td></tr>\n",
       "<tr><td><i style='opacity: 0.6'>11,460,569</i></td><td>1         </td><td>&#x27;2015-12-31 23:59:58&#x27; </td><td>&#x27;2016-01-01 00:05:19&#x27;  </td><td>2                </td><td>2.0            </td><td>-73.96527099609375</td><td>40.76028060913085</td><td>1           </td><td>&#x27;N&#x27;                 </td><td>-73.93951416015625 </td><td>40.75238800048828 </td><td>2             </td><td>7.5          </td><td>0.5    </td><td>0.5      </td><td>0.0         </td><td>0.0           </td><td>0.3                    </td><td>8.8           </td></tr>\n",
       "<tr><td><i style='opacity: 0.6'>11,460,570</i></td><td>1         </td><td>&#x27;2015-12-31 23:59:59&#x27; </td><td>&#x27;2016-01-01 00:12:55&#x27;  </td><td>2                </td><td>3.8            </td><td>-73.98729705810547</td><td>40.73907852172852</td><td>1           </td><td>&#x27;N&#x27;                 </td><td>-73.9886703491211  </td><td>40.69329833984375 </td><td>2             </td><td>13.5         </td><td>0.5    </td><td>0.5      </td><td>0.0         </td><td>0.0           </td><td>0.3                    </td><td>14.8          </td></tr>\n",
       "<tr><td><i style='opacity: 0.6'>11,460,571</i></td><td>2         </td><td>&#x27;2015-12-31 23:59:59&#x27; </td><td>&#x27;2016-01-01 00:10:26&#x27;  </td><td>1                </td><td>1.96           </td><td>-73.99755859375   </td><td>40.72569274902344</td><td>1           </td><td>&#x27;N&#x27;                 </td><td>-74.01712036132812 </td><td>40.705322265625   </td><td>2             </td><td>8.5          </td><td>0.5    </td><td>0.5      </td><td>0.0         </td><td>0.0           </td><td>0.3                    </td><td>9.8           </td></tr>\n",
       "<tr><td><i style='opacity: 0.6'>11,460,572</i></td><td>2         </td><td>&#x27;2015-12-31 23:59:59&#x27; </td><td>&#x27;2016-01-01 00:21:30&#x27;  </td><td>1                </td><td>1.06           </td><td>-73.98439788818358</td><td>40.76725769042969</td><td>1           </td><td>&#x27;N&#x27;                 </td><td>-73.99098205566406 </td><td>40.76057052612305 </td><td>1             </td><td>13.5         </td><td>0.5    </td><td>0.5      </td><td>2.96        </td><td>0.0           </td><td>0.3                    </td><td>17.76         </td></tr>\n",
       "</tbody>\n",
       "</table>"
      ],
      "text/plain": [
       "#           VendorID    tpep_pickup_datetime    tpep_dropoff_datetime    passenger_count    trip_distance    pickup_longitude    pickup_latitude    RatecodeID    store_and_fwd_flag    dropoff_longitude    dropoff_latitude    payment_type    fare_amount    extra    mta_tax    tip_amount    tolls_amount    improvement_surcharge    total_amount\n",
       "0           2           '2015-12-01 00:00:00'   '2015-12-01 00:05:16'    5                  0.96             -73.97994232177734  40.765380859375    1             'N'                   -73.96630859375      40.76308822631836   1               5.5            0.5      0.5        1.0           0.0             0.3                      7.8\n",
       "1           2           '2015-12-01 00:00:00'   '2015-12-01 00:00:00'    2                  2.69             -73.97233581542969  40.76237869262695  1             'N'                   -73.9936294555664    40.74599838256836   1               21.5           0.0      0.5        3.34          0.0             0.3                      25.64\n",
       "2           2           '2015-12-01 00:00:00'   '2015-12-01 00:00:00'    1                  2.62             -73.9688491821289   40.76453018188477  1             'N'                   -73.97454833984375   40.79164123535156   1               17.0           0.0      0.5        3.56          0.0             0.3                      21.36\n",
       "3           1           '2015-12-01 00:00:01'   '2015-12-01 00:05:56'    1                  1.2              -73.99393463134766  40.74168395996094  1             'N'                   -73.99766540527344   40.747467041015625  1               6.5            0.5      0.5        0.2           0.0             0.3                      8.0\n",
       "4           1           '2015-12-01 00:00:01'   '2015-12-01 00:09:28'    2                  3.0              -73.98892211914062  40.72698974609375  1             'N'                   -73.97559356689453   40.696868896484375  2               11.0           0.5      0.5        0.0           0.0             0.3                      12.3\n",
       "...         ...         ...                     ...                      ...                ...              ...                 ...                ...           ...                   ...                  ...                 ...             ...            ...      ...        ...           ...             ...                      ...\n",
       "11,460,568  2           '2015-12-31 23:59:56'   '2016-01-01 00:08:18'    5                  1.2              -73.99381256103516  40.72087097167969  1             'N'                   -73.98621368408203   40.722469329833984  1               7.5            0.5      0.5        1.76          0.0             0.3                      10.56\n",
       "11,460,569  1           '2015-12-31 23:59:58'   '2016-01-01 00:05:19'    2                  2.0              -73.96527099609375  40.76028060913085  1             'N'                   -73.93951416015625   40.75238800048828   2               7.5            0.5      0.5        0.0           0.0             0.3                      8.8\n",
       "11,460,570  1           '2015-12-31 23:59:59'   '2016-01-01 00:12:55'    2                  3.8              -73.98729705810547  40.73907852172852  1             'N'                   -73.9886703491211    40.69329833984375   2               13.5           0.5      0.5        0.0           0.0             0.3                      14.8\n",
       "11,460,571  2           '2015-12-31 23:59:59'   '2016-01-01 00:10:26'    1                  1.96             -73.99755859375     40.72569274902344  1             'N'                   -74.01712036132812   40.705322265625     2               8.5            0.5      0.5        0.0           0.0             0.3                      9.8\n",
       "11,460,572  2           '2015-12-31 23:59:59'   '2016-01-01 00:21:30'    1                  1.06             -73.98439788818358  40.76725769042969  1             'N'                   -73.99098205566406   40.76057052612305   1               13.5           0.5      0.5        2.96          0.0             0.3                      17.76"
      ]
     },
     "execution_count": 12,
     "metadata": {},
     "output_type": "execute_result"
    }
   ],
   "source": [
    "df"
   ]
  },
  {
   "cell_type": "code",
   "execution_count": 13,
   "metadata": {},
   "outputs": [
    {
     "data": {
      "text/plain": [
       "<matplotlib.image.AxesImage at 0x27fececf6a0>"
      ]
     },
     "execution_count": 13,
     "metadata": {},
     "output_type": "execute_result"
    },
    {
     "data": {
      "image/png": "[encoded data removed]",
      "text/plain": [
       "<Figure size 432x288 with 2 Axes>"
      ]
     },
     "metadata": {
      "needs_background": "light"
     },
     "output_type": "display_data"
    }
   ],
   "source": [
    "df.viz.heatmap(df.pickup_longitude, df.pickup_latitude, f='log')"
   ]
  },
  {
   "cell_type": "code",
   "execution_count": 27,
   "metadata": {},
   "outputs": [
    {
     "data": {
      "text/plain": [
       "array([-4.3330000e+02,  8.2603997e+05])"
      ]
     },
     "execution_count": 27,
     "metadata": {},
     "output_type": "execute_result"
    }
   ],
   "source": [
    "df.total_amount.minmax()"
   ]
  },
  {
   "cell_type": "code",
   "execution_count": 14,
   "metadata": {},
   "outputs": [
    {
     "data": {
      "text/plain": [
       "[<matplotlib.lines.Line2D at 0x22a8e488b50>]"
      ]
     },
     "execution_count": 14,
     "metadata": {},
     "output_type": "execute_result"
    },
    {
     "data": {
      "image/png": "[encoded data removed]",
      "text/plain": [
       "<Figure size 432x288 with 1 Axes>"
      ]
     },
     "metadata": {
      "needs_background": "light"
     },
     "output_type": "display_data"
    }
   ],
   "source": [
    "df.viz.histogram(df.fare_amount, shape=100, limits=[0, 65])"
   ]
  },
  {
   "cell_type": "code",
   "execution_count": 15,
   "metadata": {},
   "outputs": [
    {
     "data": {
      "text/plain": [
       "[<matplotlib.lines.Line2D at 0x22a8e4e2af0>]"
      ]
     },
     "execution_count": 15,
     "metadata": {},
     "output_type": "execute_result"
    },
    {
     "data": {
      "image/png": "[encoded data removed]",
      "text/plain": [
       "<Figure size 432x288 with 1 Axes>"
      ]
     },
     "metadata": {
      "needs_background": "light"
     },
     "output_type": "display_data"
    }
   ],
   "source": [
    "df.viz.histogram(df.trip_distance, shape=100, limits=[0, 30])"
   ]
  },
  {
   "cell_type": "code",
   "execution_count": 29,
   "metadata": {},
   "outputs": [],
   "source": [
    "df['pickup_hour'] = df.tpep_pickup_datetime.astype('datetime64')"
   ]
  },
  {
   "cell_type": "code",
   "execution_count": 5,
   "metadata": {},
   "outputs": [
    {
     "data": {
      "text/html": [
       "<table>\n",
       "<thead>\n",
       "<tr><th>#                                     </th><th>VendorID  </th><th>tpep_pickup_datetime  </th><th>tpep_dropoff_datetime  </th><th>passenger_count  </th><th>trip_distance  </th><th>pickup_longitude  </th><th>pickup_latitude  </th><th>RatecodeID  </th><th>store_and_fwd_flag  </th><th>dropoff_longitude  </th><th>dropoff_latitude  </th><th>payment_type  </th><th>fare_amount  </th><th>extra  </th><th>mta_tax  </th><th>tip_amount  </th><th>tolls_amount  </th><th>improvement_surcharge  </th><th>total_amount  </th></tr>\n",
       "</thead>\n",
       "<tbody>\n",
       "<tr><td><i style='opacity: 0.6'>0</i>         </td><td>2         </td><td>&#x27;2015-12-01 00:00:00&#x27; </td><td>&#x27;2015-12-01 00:05:16&#x27;  </td><td>5                </td><td>0.96           </td><td>-73.97994232177734</td><td>40.765380859375  </td><td>1           </td><td>&#x27;N&#x27;                 </td><td>-73.96630859375    </td><td>40.76308822631836 </td><td>1             </td><td>5.5          </td><td>0.5    </td><td>0.5      </td><td>1.0         </td><td>0.0           </td><td>0.3                    </td><td>7.8           </td></tr>\n",
       "<tr><td><i style='opacity: 0.6'>1</i>         </td><td>2         </td><td>&#x27;2015-12-01 00:00:00&#x27; </td><td>&#x27;2015-12-01 00:00:00&#x27;  </td><td>2                </td><td>2.69           </td><td>-73.97233581542969</td><td>40.76237869262695</td><td>1           </td><td>&#x27;N&#x27;                 </td><td>-73.9936294555664  </td><td>40.74599838256836 </td><td>1             </td><td>21.5         </td><td>0.0    </td><td>0.5      </td><td>3.34        </td><td>0.0           </td><td>0.3                    </td><td>25.64         </td></tr>\n",
       "<tr><td><i style='opacity: 0.6'>2</i>         </td><td>2         </td><td>&#x27;2015-12-01 00:00:00&#x27; </td><td>&#x27;2015-12-01 00:00:00&#x27;  </td><td>1                </td><td>2.62           </td><td>-73.9688491821289 </td><td>40.76453018188477</td><td>1           </td><td>&#x27;N&#x27;                 </td><td>-73.97454833984375 </td><td>40.79164123535156 </td><td>1             </td><td>17.0         </td><td>0.0    </td><td>0.5      </td><td>3.56        </td><td>0.0           </td><td>0.3                    </td><td>21.36         </td></tr>\n",
       "<tr><td><i style='opacity: 0.6'>3</i>         </td><td>1         </td><td>&#x27;2015-12-01 00:00:01&#x27; </td><td>&#x27;2015-12-01 00:05:56&#x27;  </td><td>1                </td><td>1.2            </td><td>-73.99393463134766</td><td>40.74168395996094</td><td>1           </td><td>&#x27;N&#x27;                 </td><td>-73.99766540527344 </td><td>40.747467041015625</td><td>1             </td><td>6.5          </td><td>0.5    </td><td>0.5      </td><td>0.2         </td><td>0.0           </td><td>0.3                    </td><td>8.0           </td></tr>\n",
       "<tr><td><i style='opacity: 0.6'>4</i>         </td><td>1         </td><td>&#x27;2015-12-01 00:00:01&#x27; </td><td>&#x27;2015-12-01 00:09:28&#x27;  </td><td>2                </td><td>3.0            </td><td>-73.98892211914062</td><td>40.72698974609375</td><td>1           </td><td>&#x27;N&#x27;                 </td><td>-73.97559356689453 </td><td>40.696868896484375</td><td>2             </td><td>11.0         </td><td>0.5    </td><td>0.5      </td><td>0.0         </td><td>0.0           </td><td>0.3                    </td><td>12.3          </td></tr>\n",
       "<tr><td>...                                   </td><td>...       </td><td>...                   </td><td>...                    </td><td>...              </td><td>...            </td><td>...               </td><td>...              </td><td>...         </td><td>...                 </td><td>...                </td><td>...               </td><td>...           </td><td>...          </td><td>...    </td><td>...      </td><td>...         </td><td>...           </td><td>...                    </td><td>...           </td></tr>\n",
       "<tr><td><i style='opacity: 0.6'>11,460,568</i></td><td>2         </td><td>&#x27;2015-12-31 23:59:56&#x27; </td><td>&#x27;2016-01-01 00:08:18&#x27;  </td><td>5                </td><td>1.2            </td><td>-73.99381256103516</td><td>40.72087097167969</td><td>1           </td><td>&#x27;N&#x27;                 </td><td>-73.98621368408203 </td><td>40.722469329833984</td><td>1             </td><td>7.5          </td><td>0.5    </td><td>0.5      </td><td>1.76        </td><td>0.0           </td><td>0.3                    </td><td>10.56         </td></tr>\n",
       "<tr><td><i style='opacity: 0.6'>11,460,569</i></td><td>1         </td><td>&#x27;2015-12-31 23:59:58&#x27; </td><td>&#x27;2016-01-01 00:05:19&#x27;  </td><td>2                </td><td>2.0            </td><td>-73.96527099609375</td><td>40.76028060913085</td><td>1           </td><td>&#x27;N&#x27;                 </td><td>-73.93951416015625 </td><td>40.75238800048828 </td><td>2             </td><td>7.5          </td><td>0.5    </td><td>0.5      </td><td>0.0         </td><td>0.0           </td><td>0.3                    </td><td>8.8           </td></tr>\n",
       "<tr><td><i style='opacity: 0.6'>11,460,570</i></td><td>1         </td><td>&#x27;2015-12-31 23:59:59&#x27; </td><td>&#x27;2016-01-01 00:12:55&#x27;  </td><td>2                </td><td>3.8            </td><td>-73.98729705810547</td><td>40.73907852172852</td><td>1           </td><td>&#x27;N&#x27;                 </td><td>-73.9886703491211  </td><td>40.69329833984375 </td><td>2             </td><td>13.5         </td><td>0.5    </td><td>0.5      </td><td>0.0         </td><td>0.0           </td><td>0.3                    </td><td>14.8          </td></tr>\n",
       "<tr><td><i style='opacity: 0.6'>11,460,571</i></td><td>2         </td><td>&#x27;2015-12-31 23:59:59&#x27; </td><td>&#x27;2016-01-01 00:10:26&#x27;  </td><td>1                </td><td>1.96           </td><td>-73.99755859375   </td><td>40.72569274902344</td><td>1           </td><td>&#x27;N&#x27;                 </td><td>-74.01712036132812 </td><td>40.705322265625   </td><td>2             </td><td>8.5          </td><td>0.5    </td><td>0.5      </td><td>0.0         </td><td>0.0           </td><td>0.3                    </td><td>9.8           </td></tr>\n",
       "<tr><td><i style='opacity: 0.6'>11,460,572</i></td><td>2         </td><td>&#x27;2015-12-31 23:59:59&#x27; </td><td>&#x27;2016-01-01 00:21:30&#x27;  </td><td>1                </td><td>1.06           </td><td>-73.98439788818358</td><td>40.76725769042969</td><td>1           </td><td>&#x27;N&#x27;                 </td><td>-73.99098205566406 </td><td>40.76057052612305 </td><td>1             </td><td>13.5         </td><td>0.5    </td><td>0.5      </td><td>2.96        </td><td>0.0           </td><td>0.3                    </td><td>17.76         </td></tr>\n",
       "</tbody>\n",
       "</table>"
      ],
      "text/plain": [
       "#           VendorID    tpep_pickup_datetime    tpep_dropoff_datetime    passenger_count    trip_distance    pickup_longitude    pickup_latitude    RatecodeID    store_and_fwd_flag    dropoff_longitude    dropoff_latitude    payment_type    fare_amount    extra    mta_tax    tip_amount    tolls_amount    improvement_surcharge    total_amount\n",
       "0           2           '2015-12-01 00:00:00'   '2015-12-01 00:05:16'    5                  0.96             -73.97994232177734  40.765380859375    1             'N'                   -73.96630859375      40.76308822631836   1               5.5            0.5      0.5        1.0           0.0             0.3                      7.8\n",
       "1           2           '2015-12-01 00:00:00'   '2015-12-01 00:00:00'    2                  2.69             -73.97233581542969  40.76237869262695  1             'N'                   -73.9936294555664    40.74599838256836   1               21.5           0.0      0.5        3.34          0.0             0.3                      25.64\n",
       "2           2           '2015-12-01 00:00:00'   '2015-12-01 00:00:00'    1                  2.62             -73.9688491821289   40.76453018188477  1             'N'                   -73.97454833984375   40.79164123535156   1               17.0           0.0      0.5        3.56          0.0             0.3                      21.36\n",
       "3           1           '2015-12-01 00:00:01'   '2015-12-01 00:05:56'    1                  1.2              -73.99393463134766  40.74168395996094  1             'N'                   -73.99766540527344   40.747467041015625  1               6.5            0.5      0.5        0.2           0.0             0.3                      8.0\n",
       "4           1           '2015-12-01 00:00:01'   '2015-12-01 00:09:28'    2                  3.0              -73.98892211914062  40.72698974609375  1             'N'                   -73.97559356689453   40.696868896484375  2               11.0           0.5      0.5        0.0           0.0             0.3                      12.3\n",
       "...         ...         ...                     ...                      ...                ...              ...                 ...                ...           ...                   ...                  ...                 ...             ...            ...      ...        ...           ...             ...                      ...\n",
       "11,460,568  2           '2015-12-31 23:59:56'   '2016-01-01 00:08:18'    5                  1.2              -73.99381256103516  40.72087097167969  1             'N'                   -73.98621368408203   40.722469329833984  1               7.5            0.5      0.5        1.76          0.0             0.3                      10.56\n",
       "11,460,569  1           '2015-12-31 23:59:58'   '2016-01-01 00:05:19'    2                  2.0              -73.96527099609375  40.76028060913085  1             'N'                   -73.93951416015625   40.75238800048828   2               7.5            0.5      0.5        0.0           0.0             0.3                      8.8\n",
       "11,460,570  1           '2015-12-31 23:59:59'   '2016-01-01 00:12:55'    2                  3.8              -73.98729705810547  40.73907852172852  1             'N'                   -73.9886703491211    40.69329833984375   2               13.5           0.5      0.5        0.0           0.0             0.3                      14.8\n",
       "11,460,571  2           '2015-12-31 23:59:59'   '2016-01-01 00:10:26'    1                  1.96             -73.99755859375     40.72569274902344  1             'N'                   -74.01712036132812   40.705322265625     2               8.5            0.5      0.5        0.0           0.0             0.3                      9.8\n",
       "11,460,572  2           '2015-12-31 23:59:59'   '2016-01-01 00:21:30'    1                  1.06             -73.98439788818358  40.76725769042969  1             'N'                   -73.99098205566406   40.76057052612305   1               13.5           0.5      0.5        2.96          0.0             0.3                      17.76"
      ]
     },
     "execution_count": 5,
     "metadata": {},
     "output_type": "execute_result"
    }
   ],
   "source": [
    "df"
   ]
  },
  {
   "cell_type": "code",
   "execution_count": 6,
   "metadata": {},
   "outputs": [],
   "source": [
    "from datetime import datetime"
   ]
  },
  {
   "cell_type": "code",
   "execution_count": 7,
   "metadata": {},
   "outputs": [],
   "source": [
    "def convert_to_datetime(date_string):\n",
    "    return np.datetime64(datetime.strptime(str(date_string), '%Y-%m-%d %H:%M:%S'))"
   ]
  },
  {
   "cell_type": "code",
   "execution_count": 42,
   "metadata": {},
   "outputs": [],
   "source": [
    "df['pickup_hour']=df.tpep_pickup_datetime.apply(convert_to_datetime).dt.hour"
   ]
  },
  {
   "cell_type": "code",
   "execution_count": 9,
   "metadata": {},
   "outputs": [],
   "source": [
    "df['duration']=(df.tpep_dropoff_datetime.apply(convert_to_datetime)-df.tpep_pickup_datetime.apply(convert_to_datetime))/np.timedelta64(1, 'm')"
   ]
  },
  {
   "cell_type": "code",
   "execution_count": 8,
   "metadata": {},
   "outputs": [
    {
     "data": {
      "text/plain": [
       "Expression = total_amount\n",
       "Length: 11,460,573 dtype: float64 (column)\n",
       "------------------------------------------\n",
       "       0    7.8\n",
       "       1  25.64\n",
       "       2  21.36\n",
       "       3      8\n",
       "       4   12.3\n",
       "      ...      \n",
       "11460568  10.56\n",
       "11460569    8.8\n",
       "11460570   14.8\n",
       "11460571    9.8\n",
       "11460572  17.76"
      ]
     },
     "execution_count": 8,
     "metadata": {},
     "output_type": "execute_result"
    }
   ],
   "source": [
    "df.total_amount"
   ]
  },
  {
   "cell_type": "code",
   "execution_count": 10,
   "metadata": {},
   "outputs": [
    {
     "data": {
      "text/plain": [
       "Expression = duration\n",
       "Length: 11,460,573 dtype: float64 (column)\n",
       "------------------------------------------\n",
       "       0  5.26667\n",
       "       1        0\n",
       "       2        0\n",
       "       3  5.91667\n",
       "       4     9.45\n",
       "       ...       \n",
       "11460568  8.36667\n",
       "11460569     5.35\n",
       "11460570  12.9333\n",
       "11460571    10.45\n",
       "11460572  21.5167"
      ]
     },
     "execution_count": 10,
     "metadata": {},
     "output_type": "execute_result"
    }
   ],
   "source": [
    "df.duration"
   ]
  },
  {
   "cell_type": "code",
   "execution_count": 19,
   "metadata": {},
   "outputs": [
    {
     "data": {
      "text/plain": [
       "Expression = ((lambda_function(tpep_dropoff_datetime) - lambda_functio...\n",
       "Length: 11,460,573 dtype: float64 (expression)\n",
       "----------------------------------------------\n",
       "       0  5.26667\n",
       "       1        0\n",
       "       2        0\n",
       "       3  5.91667\n",
       "       4     9.45\n",
       "       ...       \n",
       "11460568  8.36667\n",
       "11460569     5.35\n",
       "11460570  12.9333\n",
       "11460571    10.45\n",
       "11460572  21.5167"
      ]
     },
     "execution_count": 19,
     "metadata": {},
     "output_type": "execute_result"
    }
   ],
   "source": [
    "(df.tpep_dropoff_datetime.apply(convert_to_datetime)-df.tpep_pickup_datetime.apply(convert_to_datetime))/np.timedelta64(1, 'm')"
   ]
  },
  {
   "cell_type": "code",
   "execution_count": 20,
   "metadata": {},
   "outputs": [
    {
     "ename": "KeyboardInterrupt",
     "evalue": "",
     "output_type": "error",
     "traceback": [
      "\u001b[1;31m---------------------------------------------------------------------------\u001b[0m",
      "\u001b[1;31mKeyboardInterrupt\u001b[0m                         Traceback (most recent call last)",
      "\u001b[1;32m<ipython-input-20-06a2ceefc7e5>\u001b[0m in \u001b[0;36m<module>\u001b[1;34m\u001b[0m\n\u001b[1;32m----> 1\u001b[1;33m \u001b[0mdf\u001b[0m\u001b[1;33m.\u001b[0m\u001b[0mviz\u001b[0m\u001b[1;33m.\u001b[0m\u001b[0mheatmap\u001b[0m\u001b[1;33m(\u001b[0m\u001b[1;33m(\u001b[0m\u001b[0mdf\u001b[0m\u001b[1;33m.\u001b[0m\u001b[0mtpep_dropoff_datetime\u001b[0m\u001b[1;33m.\u001b[0m\u001b[0mapply\u001b[0m\u001b[1;33m(\u001b[0m\u001b[0mconvert_to_datetime\u001b[0m\u001b[1;33m)\u001b[0m\u001b[1;33m-\u001b[0m\u001b[0mdf\u001b[0m\u001b[1;33m.\u001b[0m\u001b[0mtpep_pickup_datetime\u001b[0m\u001b[1;33m.\u001b[0m\u001b[0mapply\u001b[0m\u001b[1;33m(\u001b[0m\u001b[0mconvert_to_datetime\u001b[0m\u001b[1;33m)\u001b[0m\u001b[1;33m)\u001b[0m\u001b[1;33m/\u001b[0m\u001b[0mnp\u001b[0m\u001b[1;33m.\u001b[0m\u001b[0mtimedelta64\u001b[0m\u001b[1;33m(\u001b[0m\u001b[1;36m1\u001b[0m\u001b[1;33m,\u001b[0m \u001b[1;34m'm'\u001b[0m\u001b[1;33m)\u001b[0m\u001b[1;33m,\u001b[0m \u001b[0mdf\u001b[0m\u001b[1;33m.\u001b[0m\u001b[0mtotal_amount\u001b[0m\u001b[1;33m,\u001b[0m \u001b[0mlimits\u001b[0m\u001b[1;33m=\u001b[0m\u001b[1;34m'10%'\u001b[0m\u001b[1;33m)\u001b[0m\u001b[1;33m;\u001b[0m\u001b[1;33m\u001b[0m\u001b[1;33m\u001b[0m\u001b[0m\n\u001b[0m",
      "\u001b[1;32m~\\anaconda3\\lib\\site-packages\\vaex\\viz\\mpl.py\u001b[0m in \u001b[0;36mwrapper\u001b[1;34m(self, *args, **kwargs)\u001b[0m\n\u001b[0;32m     30\u001b[0m     \u001b[1;33m@\u001b[0m\u001b[0mfunctools\u001b[0m\u001b[1;33m.\u001b[0m\u001b[0mwraps\u001b[0m\u001b[1;33m(\u001b[0m\u001b[0mf\u001b[0m\u001b[1;33m)\u001b[0m\u001b[1;33m\u001b[0m\u001b[1;33m\u001b[0m\u001b[0m\n\u001b[0;32m     31\u001b[0m     \u001b[1;32mdef\u001b[0m \u001b[0mwrapper\u001b[0m\u001b[1;33m(\u001b[0m\u001b[0mself\u001b[0m\u001b[1;33m,\u001b[0m \u001b[1;33m*\u001b[0m\u001b[0margs\u001b[0m\u001b[1;33m,\u001b[0m \u001b[1;33m**\u001b[0m\u001b[0mkwargs\u001b[0m\u001b[1;33m)\u001b[0m\u001b[1;33m:\u001b[0m\u001b[1;33m\u001b[0m\u001b[1;33m\u001b[0m\u001b[0m\n\u001b[1;32m---> 32\u001b[1;33m         \u001b[1;32mreturn\u001b[0m \u001b[0mf\u001b[0m\u001b[1;33m(\u001b[0m\u001b[0mself\u001b[0m\u001b[1;33m.\u001b[0m\u001b[0mdf\u001b[0m\u001b[1;33m,\u001b[0m \u001b[1;33m*\u001b[0m\u001b[0margs\u001b[0m\u001b[1;33m,\u001b[0m \u001b[1;33m**\u001b[0m\u001b[0mkwargs\u001b[0m\u001b[1;33m)\u001b[0m\u001b[1;33m\u001b[0m\u001b[1;33m\u001b[0m\u001b[0m\n\u001b[0m\u001b[0;32m     33\u001b[0m     \u001b[1;32mfrom\u001b[0m \u001b[1;33m.\u001b[0m \u001b[1;32mimport\u001b[0m \u001b[0mDataFrameAccessorViz\u001b[0m \u001b[1;32mas\u001b[0m \u001b[0mcls\u001b[0m\u001b[1;33m\u001b[0m\u001b[1;33m\u001b[0m\u001b[0m\n\u001b[0;32m     34\u001b[0m     \u001b[0msetattr\u001b[0m\u001b[1;33m(\u001b[0m\u001b[0mcls\u001b[0m\u001b[1;33m,\u001b[0m \u001b[0mf\u001b[0m\u001b[1;33m.\u001b[0m\u001b[0m__name__\u001b[0m\u001b[1;33m,\u001b[0m \u001b[0mwrapper\u001b[0m\u001b[1;33m)\u001b[0m\u001b[1;33m\u001b[0m\u001b[1;33m\u001b[0m\u001b[0m\n",
      "\u001b[1;32m~\\anaconda3\\lib\\site-packages\\vaex\\viz\\mpl.py\u001b[0m in \u001b[0;36mheatmap\u001b[1;34m(self, x, y, z, what, vwhat, reduce, f, normalize, normalize_axis, vmin, vmax, shape, vshape, limits, grid, colormap, figsize, xlabel, ylabel, aspect, tight_layout, interpolation, show, colorbar, colorbar_label, selection, selection_labels, title, background_color, pre_blend, background_alpha, visual, smooth_pre, smooth_post, wrap, wrap_columns, return_extra, hardcopy)\u001b[0m\n\u001b[0;32m    424\u001b[0m     \u001b[0mvwhats\u001b[0m \u001b[1;33m=\u001b[0m \u001b[0m_expand_limits\u001b[0m\u001b[1;33m(\u001b[0m\u001b[0mvwhat\u001b[0m\u001b[1;33m,\u001b[0m \u001b[0mlen\u001b[0m\u001b[1;33m(\u001b[0m\u001b[0mx\u001b[0m\u001b[1;33m)\u001b[0m\u001b[1;33m)\u001b[0m  \u001b[1;31m# TODO: we're abusing this function..\u001b[0m\u001b[1;33m\u001b[0m\u001b[1;33m\u001b[0m\u001b[0m\n\u001b[0;32m    425\u001b[0m     \u001b[0mlogger\u001b[0m\u001b[1;33m.\u001b[0m\u001b[0mdebug\u001b[0m\u001b[1;33m(\u001b[0m\u001b[1;34m\"x: %s\"\u001b[0m\u001b[1;33m,\u001b[0m \u001b[0mx\u001b[0m\u001b[1;33m)\u001b[0m\u001b[1;33m\u001b[0m\u001b[1;33m\u001b[0m\u001b[0m\n\u001b[1;32m--> 426\u001b[1;33m     \u001b[0mlimits\u001b[0m\u001b[1;33m,\u001b[0m \u001b[0mshape\u001b[0m \u001b[1;33m=\u001b[0m \u001b[0mself\u001b[0m\u001b[1;33m.\u001b[0m\u001b[0mlimits\u001b[0m\u001b[1;33m(\u001b[0m\u001b[0mx\u001b[0m\u001b[1;33m,\u001b[0m \u001b[0mlimits\u001b[0m\u001b[1;33m,\u001b[0m \u001b[0mshape\u001b[0m\u001b[1;33m=\u001b[0m\u001b[0mshape\u001b[0m\u001b[1;33m)\u001b[0m\u001b[1;33m\u001b[0m\u001b[1;33m\u001b[0m\u001b[0m\n\u001b[0m\u001b[0;32m    427\u001b[0m     \u001b[0mshape\u001b[0m \u001b[1;33m=\u001b[0m \u001b[0mshape\u001b[0m\u001b[1;33m[\u001b[0m\u001b[1;36m0\u001b[0m\u001b[1;33m]\u001b[0m\u001b[1;33m\u001b[0m\u001b[1;33m\u001b[0m\u001b[0m\n\u001b[0;32m    428\u001b[0m     \u001b[0mlogger\u001b[0m\u001b[1;33m.\u001b[0m\u001b[0mdebug\u001b[0m\u001b[1;33m(\u001b[0m\u001b[1;34m\"limits: %r\"\u001b[0m\u001b[1;33m,\u001b[0m \u001b[0mlimits\u001b[0m\u001b[1;33m)\u001b[0m\u001b[1;33m\u001b[0m\u001b[1;33m\u001b[0m\u001b[0m\n",
      "\u001b[1;32m~\\anaconda3\\lib\\site-packages\\vaex\\dataframe.py\u001b[0m in \u001b[0;36mlimits\u001b[1;34m(self, expression, value, square, selection, delay, shape)\u001b[0m\n\u001b[0;32m   1637\u001b[0m                                 \u001b[0mlimits\u001b[0m \u001b[1;33m=\u001b[0m \u001b[0mself\u001b[0m\u001b[1;33m.\u001b[0m\u001b[0mlimits_sigma\u001b[0m\u001b[1;33m(\u001b[0m\u001b[0mnumber\u001b[0m\u001b[1;33m,\u001b[0m \u001b[0msquare\u001b[0m\u001b[1;33m=\u001b[0m\u001b[1;32mTrue\u001b[0m\u001b[1;33m)\u001b[0m\u001b[1;33m\u001b[0m\u001b[1;33m\u001b[0m\u001b[0m\n\u001b[0;32m   1638\u001b[0m                             \u001b[1;32melif\u001b[0m \u001b[0mtype\u001b[0m \u001b[1;32min\u001b[0m \u001b[1;33m[\u001b[0m\u001b[1;34m\"%\"\u001b[0m\u001b[1;33m,\u001b[0m \u001b[1;34m\"percent\"\u001b[0m\u001b[1;33m]\u001b[0m\u001b[1;33m:\u001b[0m\u001b[1;33m\u001b[0m\u001b[1;33m\u001b[0m\u001b[0m\n\u001b[1;32m-> 1639\u001b[1;33m                                 \u001b[0mlimits\u001b[0m \u001b[1;33m=\u001b[0m \u001b[0mself\u001b[0m\u001b[1;33m.\u001b[0m\u001b[0mlimits_percentage\u001b[0m\u001b[1;33m(\u001b[0m\u001b[0mexpression\u001b[0m\u001b[1;33m,\u001b[0m \u001b[0mnumber\u001b[0m\u001b[1;33m,\u001b[0m \u001b[0mselection\u001b[0m\u001b[1;33m=\u001b[0m\u001b[0mselection\u001b[0m\u001b[1;33m,\u001b[0m \u001b[0mdelay\u001b[0m\u001b[1;33m=\u001b[0m\u001b[1;32mFalse\u001b[0m\u001b[1;33m)\u001b[0m\u001b[1;33m\u001b[0m\u001b[1;33m\u001b[0m\u001b[0m\n\u001b[0m\u001b[0;32m   1640\u001b[0m                             \u001b[1;32melif\u001b[0m \u001b[0mtype\u001b[0m \u001b[1;32min\u001b[0m \u001b[1;33m[\u001b[0m\u001b[1;34m\"%s\"\u001b[0m\u001b[1;33m,\u001b[0m \u001b[1;34m\"%square\"\u001b[0m\u001b[1;33m,\u001b[0m \u001b[1;34m\"percentsquare\"\u001b[0m\u001b[1;33m]\u001b[0m\u001b[1;33m:\u001b[0m\u001b[1;33m\u001b[0m\u001b[1;33m\u001b[0m\u001b[0m\n\u001b[0;32m   1641\u001b[0m                                 \u001b[0mlimits\u001b[0m \u001b[1;33m=\u001b[0m \u001b[0mself\u001b[0m\u001b[1;33m.\u001b[0m\u001b[0mlimits_percentage\u001b[0m\u001b[1;33m(\u001b[0m\u001b[0mexpression\u001b[0m\u001b[1;33m,\u001b[0m \u001b[0mnumber\u001b[0m\u001b[1;33m,\u001b[0m \u001b[0mselection\u001b[0m\u001b[1;33m=\u001b[0m\u001b[0mselection\u001b[0m\u001b[1;33m,\u001b[0m \u001b[0msquare\u001b[0m\u001b[1;33m=\u001b[0m\u001b[1;32mTrue\u001b[0m\u001b[1;33m,\u001b[0m \u001b[0mdelay\u001b[0m\u001b[1;33m=\u001b[0m\u001b[1;32mTrue\u001b[0m\u001b[1;33m)\u001b[0m\u001b[1;33m\u001b[0m\u001b[1;33m\u001b[0m\u001b[0m\n",
      "\u001b[1;32m~\\anaconda3\\lib\\site-packages\\vaex\\dataframe.py\u001b[0m in \u001b[0;36mlimits_percentage\u001b[1;34m(self, expression, percentage, square, selection, delay)\u001b[0m\n\u001b[0;32m   1529\u001b[0m             \u001b[0mvmin\u001b[0m\u001b[1;33m,\u001b[0m \u001b[0mvmax\u001b[0m \u001b[1;33m=\u001b[0m \u001b[0mlimits_minmax\u001b[0m\u001b[1;33m\u001b[0m\u001b[1;33m\u001b[0m\u001b[0m\n\u001b[0;32m   1530\u001b[0m             \u001b[0msize\u001b[0m \u001b[1;33m=\u001b[0m \u001b[1;36m1024\u001b[0m \u001b[1;33m*\u001b[0m \u001b[1;36m16\u001b[0m\u001b[1;33m\u001b[0m\u001b[1;33m\u001b[0m\u001b[0m\n\u001b[1;32m-> 1531\u001b[1;33m             \u001b[0mcounts\u001b[0m \u001b[1;33m=\u001b[0m \u001b[0mself\u001b[0m\u001b[1;33m.\u001b[0m\u001b[0mcount\u001b[0m\u001b[1;33m(\u001b[0m\u001b[0mbinby\u001b[0m\u001b[1;33m=\u001b[0m\u001b[0mexpr\u001b[0m\u001b[1;33m,\u001b[0m \u001b[0mshape\u001b[0m\u001b[1;33m=\u001b[0m\u001b[0msize\u001b[0m\u001b[1;33m,\u001b[0m \u001b[0mlimits\u001b[0m\u001b[1;33m=\u001b[0m\u001b[0mlimits_minmax\u001b[0m\u001b[1;33m,\u001b[0m \u001b[0mselection\u001b[0m\u001b[1;33m=\u001b[0m\u001b[0mselection\u001b[0m\u001b[1;33m)\u001b[0m\u001b[1;33m\u001b[0m\u001b[1;33m\u001b[0m\u001b[0m\n\u001b[0m\u001b[0;32m   1532\u001b[0m             \u001b[0mcumcounts\u001b[0m \u001b[1;33m=\u001b[0m \u001b[0mnp\u001b[0m\u001b[1;33m.\u001b[0m\u001b[0mconcatenate\u001b[0m\u001b[1;33m(\u001b[0m\u001b[1;33m[\u001b[0m\u001b[1;33m[\u001b[0m\u001b[1;36m0\u001b[0m\u001b[1;33m]\u001b[0m\u001b[1;33m,\u001b[0m \u001b[0mnp\u001b[0m\u001b[1;33m.\u001b[0m\u001b[0mcumsum\u001b[0m\u001b[1;33m(\u001b[0m\u001b[0mcounts\u001b[0m\u001b[1;33m)\u001b[0m\u001b[1;33m]\u001b[0m\u001b[1;33m)\u001b[0m\u001b[1;33m\u001b[0m\u001b[1;33m\u001b[0m\u001b[0m\n\u001b[0;32m   1533\u001b[0m             \u001b[0mcumcounts\u001b[0m \u001b[1;33m=\u001b[0m \u001b[0mcumcounts\u001b[0m \u001b[1;33m/\u001b[0m \u001b[0mcumcounts\u001b[0m\u001b[1;33m.\u001b[0m\u001b[0mmax\u001b[0m\u001b[1;33m(\u001b[0m\u001b[1;33m)\u001b[0m\u001b[1;33m\u001b[0m\u001b[1;33m\u001b[0m\u001b[0m\n",
      "\u001b[1;32m~\\anaconda3\\lib\\site-packages\\vaex\\dataframe.py\u001b[0m in \u001b[0;36mcount\u001b[1;34m(self, expression, binby, limits, shape, selection, delay, edges, progress, array_type)\u001b[0m\n\u001b[0;32m    759\u001b[0m         \u001b[1;33m:\u001b[0m\u001b[1;32mreturn\u001b[0m\u001b[1;33m:\u001b[0m \u001b[1;33m{\u001b[0m\u001b[0mreturn_stat_scalar\u001b[0m\u001b[1;33m}\u001b[0m\u001b[1;33m\u001b[0m\u001b[1;33m\u001b[0m\u001b[0m\n\u001b[0;32m    760\u001b[0m         \"\"\"\n\u001b[1;32m--> 761\u001b[1;33m         \u001b[1;32mreturn\u001b[0m \u001b[0mself\u001b[0m\u001b[1;33m.\u001b[0m\u001b[0m_compute_agg\u001b[0m\u001b[1;33m(\u001b[0m\u001b[1;34m'count'\u001b[0m\u001b[1;33m,\u001b[0m \u001b[0mexpression\u001b[0m\u001b[1;33m,\u001b[0m \u001b[0mbinby\u001b[0m\u001b[1;33m,\u001b[0m \u001b[0mlimits\u001b[0m\u001b[1;33m,\u001b[0m \u001b[0mshape\u001b[0m\u001b[1;33m,\u001b[0m \u001b[0mselection\u001b[0m\u001b[1;33m,\u001b[0m \u001b[0mdelay\u001b[0m\u001b[1;33m,\u001b[0m \u001b[0medges\u001b[0m\u001b[1;33m,\u001b[0m \u001b[0mprogress\u001b[0m\u001b[1;33m,\u001b[0m \u001b[0marray_type\u001b[0m\u001b[1;33m=\u001b[0m\u001b[0marray_type\u001b[0m\u001b[1;33m)\u001b[0m\u001b[1;33m\u001b[0m\u001b[1;33m\u001b[0m\u001b[0m\n\u001b[0m\u001b[0;32m    762\u001b[0m \u001b[1;33m\u001b[0m\u001b[0m\n\u001b[0;32m    763\u001b[0m     \u001b[1;33m@\u001b[0m\u001b[0mdelayed\u001b[0m\u001b[1;33m\u001b[0m\u001b[1;33m\u001b[0m\u001b[0m\n",
      "\u001b[1;32m~\\anaconda3\\lib\\site-packages\\vaex\\dataframe.py\u001b[0m in \u001b[0;36m_compute_agg\u001b[1;34m(self, name, expression, binby, limits, shape, selection, delay, edges, progress, extra_expressions, array_type)\u001b[0m\n\u001b[0;32m    733\u001b[0m         \u001b[0mstats\u001b[0m \u001b[1;33m=\u001b[0m \u001b[1;33m[\u001b[0m\u001b[0mcompute\u001b[0m\u001b[1;33m(\u001b[0m\u001b[0mexpression\u001b[0m\u001b[1;33m,\u001b[0m \u001b[0mgrid\u001b[0m\u001b[1;33m,\u001b[0m \u001b[0mselection\u001b[0m\u001b[1;33m=\u001b[0m\u001b[0mselection\u001b[0m\u001b[1;33m,\u001b[0m \u001b[0medges\u001b[0m\u001b[1;33m=\u001b[0m\u001b[0medges\u001b[0m\u001b[1;33m,\u001b[0m \u001b[0mprogressbar\u001b[0m\u001b[1;33m=\u001b[0m\u001b[0mprogressbar\u001b[0m\u001b[1;33m)\u001b[0m \u001b[1;32mfor\u001b[0m \u001b[0mexpression\u001b[0m \u001b[1;32min\u001b[0m \u001b[0mexpressions\u001b[0m\u001b[1;33m]\u001b[0m\u001b[1;33m\u001b[0m\u001b[1;33m\u001b[0m\u001b[0m\n\u001b[0;32m    734\u001b[0m         \u001b[0mvar\u001b[0m \u001b[1;33m=\u001b[0m \u001b[0mfinish\u001b[0m\u001b[1;33m(\u001b[0m\u001b[0mgrid\u001b[0m\u001b[1;33m,\u001b[0m \u001b[1;33m*\u001b[0m\u001b[0mstats\u001b[0m\u001b[1;33m)\u001b[0m\u001b[1;33m\u001b[0m\u001b[1;33m\u001b[0m\u001b[0m\n\u001b[1;32m--> 735\u001b[1;33m         \u001b[1;32mreturn\u001b[0m \u001b[0mself\u001b[0m\u001b[1;33m.\u001b[0m\u001b[0m_delay\u001b[0m\u001b[1;33m(\u001b[0m\u001b[0mdelay\u001b[0m\u001b[1;33m,\u001b[0m \u001b[0mvar\u001b[0m\u001b[1;33m)\u001b[0m\u001b[1;33m\u001b[0m\u001b[1;33m\u001b[0m\u001b[0m\n\u001b[0m\u001b[0;32m    736\u001b[0m \u001b[1;33m\u001b[0m\u001b[0m\n\u001b[0;32m    737\u001b[0m     \u001b[1;33m@\u001b[0m\u001b[0mdocsubst\u001b[0m\u001b[1;33m\u001b[0m\u001b[1;33m\u001b[0m\u001b[0m\n",
      "\u001b[1;32m~\\anaconda3\\lib\\site-packages\\vaex\\dataframe.py\u001b[0m in \u001b[0;36m_delay\u001b[1;34m(self, delay, task, progressbar)\u001b[0m\n\u001b[0;32m   1497\u001b[0m             \u001b[1;32mreturn\u001b[0m \u001b[0mtask\u001b[0m\u001b[1;33m\u001b[0m\u001b[1;33m\u001b[0m\u001b[0m\n\u001b[0;32m   1498\u001b[0m         \u001b[1;32melse\u001b[0m\u001b[1;33m:\u001b[0m\u001b[1;33m\u001b[0m\u001b[1;33m\u001b[0m\u001b[0m\n\u001b[1;32m-> 1499\u001b[1;33m             \u001b[0mself\u001b[0m\u001b[1;33m.\u001b[0m\u001b[0mexecute\u001b[0m\u001b[1;33m(\u001b[0m\u001b[1;33m)\u001b[0m\u001b[1;33m\u001b[0m\u001b[1;33m\u001b[0m\u001b[0m\n\u001b[0m\u001b[0;32m   1500\u001b[0m             \u001b[1;32mreturn\u001b[0m \u001b[0mtask\u001b[0m\u001b[1;33m.\u001b[0m\u001b[0mget\u001b[0m\u001b[1;33m(\u001b[0m\u001b[1;33m)\u001b[0m\u001b[1;33m\u001b[0m\u001b[1;33m\u001b[0m\u001b[0m\n\u001b[0;32m   1501\u001b[0m \u001b[1;33m\u001b[0m\u001b[0m\n",
      "\u001b[1;32m~\\anaconda3\\lib\\site-packages\\vaex\\dataframe.py\u001b[0m in \u001b[0;36mexecute\u001b[1;34m(self)\u001b[0m\n\u001b[0;32m    306\u001b[0m         \u001b[1;34m'''Execute all delayed jobs.'''\u001b[0m\u001b[1;33m\u001b[0m\u001b[1;33m\u001b[0m\u001b[0m\n\u001b[0;32m    307\u001b[0m         \u001b[1;32mfrom\u001b[0m \u001b[1;33m.\u001b[0m\u001b[0masyncio\u001b[0m \u001b[1;32mimport\u001b[0m \u001b[0mjust_run\u001b[0m\u001b[1;33m\u001b[0m\u001b[1;33m\u001b[0m\u001b[0m\n\u001b[1;32m--> 308\u001b[1;33m         \u001b[0mjust_run\u001b[0m\u001b[1;33m(\u001b[0m\u001b[0mself\u001b[0m\u001b[1;33m.\u001b[0m\u001b[0mexecute_async\u001b[0m\u001b[1;33m(\u001b[0m\u001b[1;33m)\u001b[0m\u001b[1;33m)\u001b[0m\u001b[1;33m\u001b[0m\u001b[1;33m\u001b[0m\u001b[0m\n\u001b[0m\u001b[0;32m    309\u001b[0m \u001b[1;33m\u001b[0m\u001b[0m\n\u001b[0;32m    310\u001b[0m     \u001b[1;32masync\u001b[0m \u001b[1;32mdef\u001b[0m \u001b[0mexecute_async\u001b[0m\u001b[1;33m(\u001b[0m\u001b[0mself\u001b[0m\u001b[1;33m)\u001b[0m\u001b[1;33m:\u001b[0m\u001b[1;33m\u001b[0m\u001b[1;33m\u001b[0m\u001b[0m\n",
      "\u001b[1;32m~\\anaconda3\\lib\\site-packages\\vaex\\asyncio.py\u001b[0m in \u001b[0;36mjust_run\u001b[1;34m(coro)\u001b[0m\n\u001b[0;32m     33\u001b[0m             \u001b[0mnest_asyncio\u001b[0m\u001b[1;33m.\u001b[0m\u001b[0mapply\u001b[0m\u001b[1;33m(\u001b[0m\u001b[1;33m)\u001b[0m\u001b[1;33m\u001b[0m\u001b[1;33m\u001b[0m\u001b[0m\n\u001b[0;32m     34\u001b[0m             \u001b[0mcheck_patch_tornado\u001b[0m\u001b[1;33m(\u001b[0m\u001b[1;33m)\u001b[0m\u001b[1;33m\u001b[0m\u001b[1;33m\u001b[0m\u001b[0m\n\u001b[1;32m---> 35\u001b[1;33m         \u001b[1;32mreturn\u001b[0m \u001b[0mloop\u001b[0m\u001b[1;33m.\u001b[0m\u001b[0mrun_until_complete\u001b[0m\u001b[1;33m(\u001b[0m\u001b[0mcoro\u001b[0m\u001b[1;33m)\u001b[0m\u001b[1;33m\u001b[0m\u001b[1;33m\u001b[0m\u001b[0m\n\u001b[0m\u001b[0;32m     36\u001b[0m     \u001b[1;32mfinally\u001b[0m\u001b[1;33m:\u001b[0m\u001b[1;33m\u001b[0m\u001b[1;33m\u001b[0m\u001b[0m\n\u001b[0;32m     37\u001b[0m         \u001b[1;32mif\u001b[0m \u001b[1;32mnot\u001b[0m \u001b[0mhad_loop\u001b[0m\u001b[1;33m:\u001b[0m  \u001b[1;31m# remove loop if we did not have one\u001b[0m\u001b[1;33m\u001b[0m\u001b[1;33m\u001b[0m\u001b[0m\n",
      "\u001b[1;32m~\\anaconda3\\lib\\site-packages\\nest_asyncio.py\u001b[0m in \u001b[0;36mrun_until_complete\u001b[1;34m(self, future)\u001b[0m\n\u001b[0;32m     88\u001b[0m                 \u001b[0mf\u001b[0m\u001b[1;33m.\u001b[0m\u001b[0m_log_destroy_pending\u001b[0m \u001b[1;33m=\u001b[0m \u001b[1;32mFalse\u001b[0m\u001b[1;33m\u001b[0m\u001b[1;33m\u001b[0m\u001b[0m\n\u001b[0;32m     89\u001b[0m             \u001b[1;32mwhile\u001b[0m \u001b[1;32mnot\u001b[0m \u001b[0mf\u001b[0m\u001b[1;33m.\u001b[0m\u001b[0mdone\u001b[0m\u001b[1;33m(\u001b[0m\u001b[1;33m)\u001b[0m\u001b[1;33m:\u001b[0m\u001b[1;33m\u001b[0m\u001b[1;33m\u001b[0m\u001b[0m\n\u001b[1;32m---> 90\u001b[1;33m                 \u001b[0mself\u001b[0m\u001b[1;33m.\u001b[0m\u001b[0m_run_once\u001b[0m\u001b[1;33m(\u001b[0m\u001b[1;33m)\u001b[0m\u001b[1;33m\u001b[0m\u001b[1;33m\u001b[0m\u001b[0m\n\u001b[0m\u001b[0;32m     91\u001b[0m                 \u001b[1;32mif\u001b[0m \u001b[0mself\u001b[0m\u001b[1;33m.\u001b[0m\u001b[0m_stopping\u001b[0m\u001b[1;33m:\u001b[0m\u001b[1;33m\u001b[0m\u001b[1;33m\u001b[0m\u001b[0m\n\u001b[0;32m     92\u001b[0m                     \u001b[1;32mbreak\u001b[0m\u001b[1;33m\u001b[0m\u001b[1;33m\u001b[0m\u001b[0m\n",
      "\u001b[1;32m~\\anaconda3\\lib\\site-packages\\nest_asyncio.py\u001b[0m in \u001b[0;36m_run_once\u001b[1;34m(self)\u001b[0m\n\u001b[0;32m    114\u001b[0m             \u001b[1;32melse\u001b[0m \u001b[1;36m0.01\u001b[0m \u001b[1;32mif\u001b[0m \u001b[0mself\u001b[0m\u001b[1;33m.\u001b[0m\u001b[0m_is_proactorloop\u001b[0m\u001b[1;33m\u001b[0m\u001b[1;33m\u001b[0m\u001b[0m\n\u001b[0;32m    115\u001b[0m             else None)\n\u001b[1;32m--> 116\u001b[1;33m         \u001b[0mevent_list\u001b[0m \u001b[1;33m=\u001b[0m \u001b[0mself\u001b[0m\u001b[1;33m.\u001b[0m\u001b[0m_selector\u001b[0m\u001b[1;33m.\u001b[0m\u001b[0mselect\u001b[0m\u001b[1;33m(\u001b[0m\u001b[0mtimeout\u001b[0m\u001b[1;33m)\u001b[0m\u001b[1;33m\u001b[0m\u001b[1;33m\u001b[0m\u001b[0m\n\u001b[0m\u001b[0;32m    117\u001b[0m         \u001b[0mself\u001b[0m\u001b[1;33m.\u001b[0m\u001b[0m_process_events\u001b[0m\u001b[1;33m(\u001b[0m\u001b[0mevent_list\u001b[0m\u001b[1;33m)\u001b[0m\u001b[1;33m\u001b[0m\u001b[1;33m\u001b[0m\u001b[0m\n\u001b[0;32m    118\u001b[0m \u001b[1;33m\u001b[0m\u001b[0m\n",
      "\u001b[1;32m~\\anaconda3\\lib\\selectors.py\u001b[0m in \u001b[0;36mselect\u001b[1;34m(self, timeout)\u001b[0m\n\u001b[0;32m    321\u001b[0m         \u001b[0mready\u001b[0m \u001b[1;33m=\u001b[0m \u001b[1;33m[\u001b[0m\u001b[1;33m]\u001b[0m\u001b[1;33m\u001b[0m\u001b[1;33m\u001b[0m\u001b[0m\n\u001b[0;32m    322\u001b[0m         \u001b[1;32mtry\u001b[0m\u001b[1;33m:\u001b[0m\u001b[1;33m\u001b[0m\u001b[1;33m\u001b[0m\u001b[0m\n\u001b[1;32m--> 323\u001b[1;33m             \u001b[0mr\u001b[0m\u001b[1;33m,\u001b[0m \u001b[0mw\u001b[0m\u001b[1;33m,\u001b[0m \u001b[0m_\u001b[0m \u001b[1;33m=\u001b[0m \u001b[0mself\u001b[0m\u001b[1;33m.\u001b[0m\u001b[0m_select\u001b[0m\u001b[1;33m(\u001b[0m\u001b[0mself\u001b[0m\u001b[1;33m.\u001b[0m\u001b[0m_readers\u001b[0m\u001b[1;33m,\u001b[0m \u001b[0mself\u001b[0m\u001b[1;33m.\u001b[0m\u001b[0m_writers\u001b[0m\u001b[1;33m,\u001b[0m \u001b[1;33m[\u001b[0m\u001b[1;33m]\u001b[0m\u001b[1;33m,\u001b[0m \u001b[0mtimeout\u001b[0m\u001b[1;33m)\u001b[0m\u001b[1;33m\u001b[0m\u001b[1;33m\u001b[0m\u001b[0m\n\u001b[0m\u001b[0;32m    324\u001b[0m         \u001b[1;32mexcept\u001b[0m \u001b[0mInterruptedError\u001b[0m\u001b[1;33m:\u001b[0m\u001b[1;33m\u001b[0m\u001b[1;33m\u001b[0m\u001b[0m\n\u001b[0;32m    325\u001b[0m             \u001b[1;32mreturn\u001b[0m \u001b[0mready\u001b[0m\u001b[1;33m\u001b[0m\u001b[1;33m\u001b[0m\u001b[0m\n",
      "\u001b[1;32m~\\anaconda3\\lib\\selectors.py\u001b[0m in \u001b[0;36m_select\u001b[1;34m(self, r, w, _, timeout)\u001b[0m\n\u001b[0;32m    312\u001b[0m     \u001b[1;32mif\u001b[0m \u001b[0msys\u001b[0m\u001b[1;33m.\u001b[0m\u001b[0mplatform\u001b[0m \u001b[1;33m==\u001b[0m \u001b[1;34m'win32'\u001b[0m\u001b[1;33m:\u001b[0m\u001b[1;33m\u001b[0m\u001b[1;33m\u001b[0m\u001b[0m\n\u001b[0;32m    313\u001b[0m         \u001b[1;32mdef\u001b[0m \u001b[0m_select\u001b[0m\u001b[1;33m(\u001b[0m\u001b[0mself\u001b[0m\u001b[1;33m,\u001b[0m \u001b[0mr\u001b[0m\u001b[1;33m,\u001b[0m \u001b[0mw\u001b[0m\u001b[1;33m,\u001b[0m \u001b[0m_\u001b[0m\u001b[1;33m,\u001b[0m \u001b[0mtimeout\u001b[0m\u001b[1;33m=\u001b[0m\u001b[1;32mNone\u001b[0m\u001b[1;33m)\u001b[0m\u001b[1;33m:\u001b[0m\u001b[1;33m\u001b[0m\u001b[1;33m\u001b[0m\u001b[0m\n\u001b[1;32m--> 314\u001b[1;33m             \u001b[0mr\u001b[0m\u001b[1;33m,\u001b[0m \u001b[0mw\u001b[0m\u001b[1;33m,\u001b[0m \u001b[0mx\u001b[0m \u001b[1;33m=\u001b[0m \u001b[0mselect\u001b[0m\u001b[1;33m.\u001b[0m\u001b[0mselect\u001b[0m\u001b[1;33m(\u001b[0m\u001b[0mr\u001b[0m\u001b[1;33m,\u001b[0m \u001b[0mw\u001b[0m\u001b[1;33m,\u001b[0m \u001b[0mw\u001b[0m\u001b[1;33m,\u001b[0m \u001b[0mtimeout\u001b[0m\u001b[1;33m)\u001b[0m\u001b[1;33m\u001b[0m\u001b[1;33m\u001b[0m\u001b[0m\n\u001b[0m\u001b[0;32m    315\u001b[0m             \u001b[1;32mreturn\u001b[0m \u001b[0mr\u001b[0m\u001b[1;33m,\u001b[0m \u001b[0mw\u001b[0m \u001b[1;33m+\u001b[0m \u001b[0mx\u001b[0m\u001b[1;33m,\u001b[0m \u001b[1;33m[\u001b[0m\u001b[1;33m]\u001b[0m\u001b[1;33m\u001b[0m\u001b[1;33m\u001b[0m\u001b[0m\n\u001b[0;32m    316\u001b[0m     \u001b[1;32melse\u001b[0m\u001b[1;33m:\u001b[0m\u001b[1;33m\u001b[0m\u001b[1;33m\u001b[0m\u001b[0m\n",
      "\u001b[1;31mKeyboardInterrupt\u001b[0m: "
     ]
    },
    {
     "data": {
      "text/plain": [
       "<Figure size 432x288 with 0 Axes>"
      ]
     },
     "metadata": {},
     "output_type": "display_data"
    }
   ],
   "source": [
    "df.viz.heatmap((df.tpep_dropoff_datetime.apply(convert_to_datetime)-df.tpep_pickup_datetime.apply(convert_to_datetime))/np.timedelta64(1, 'm'), df.total_amount, limits='10%');"
   ]
  },
  {
   "cell_type": "code",
   "execution_count": 11,
   "metadata": {},
   "outputs": [],
   "source": [
    "df_clear = df[df.duration<1]"
   ]
  },
  {
   "cell_type": "code",
   "execution_count": 12,
   "metadata": {},
   "outputs": [
    {
     "ename": "KeyboardInterrupt",
     "evalue": "",
     "output_type": "error",
     "traceback": [
      "\u001b[1;31m---------------------------------------------------------------------------\u001b[0m",
      "\u001b[1;31mKeyboardInterrupt\u001b[0m                         Traceback (most recent call last)",
      "\u001b[1;32m<ipython-input-12-e0fe083a43ee>\u001b[0m in \u001b[0;36m<module>\u001b[1;34m\u001b[0m\n\u001b[1;32m----> 1\u001b[1;33m \u001b[0mdf_clear\u001b[0m\u001b[1;33m\u001b[0m\u001b[1;33m\u001b[0m\u001b[0m\n\u001b[0m",
      "\u001b[1;32m~\\anaconda3\\lib\\site-packages\\IPython\\core\\displayhook.py\u001b[0m in \u001b[0;36m__call__\u001b[1;34m(self, result)\u001b[0m\n\u001b[0;32m    260\u001b[0m             \u001b[0mself\u001b[0m\u001b[1;33m.\u001b[0m\u001b[0mstart_displayhook\u001b[0m\u001b[1;33m(\u001b[0m\u001b[1;33m)\u001b[0m\u001b[1;33m\u001b[0m\u001b[1;33m\u001b[0m\u001b[0m\n\u001b[0;32m    261\u001b[0m             \u001b[0mself\u001b[0m\u001b[1;33m.\u001b[0m\u001b[0mwrite_output_prompt\u001b[0m\u001b[1;33m(\u001b[0m\u001b[1;33m)\u001b[0m\u001b[1;33m\u001b[0m\u001b[1;33m\u001b[0m\u001b[0m\n\u001b[1;32m--> 262\u001b[1;33m             \u001b[0mformat_dict\u001b[0m\u001b[1;33m,\u001b[0m \u001b[0mmd_dict\u001b[0m \u001b[1;33m=\u001b[0m \u001b[0mself\u001b[0m\u001b[1;33m.\u001b[0m\u001b[0mcompute_format_data\u001b[0m\u001b[1;33m(\u001b[0m\u001b[0mresult\u001b[0m\u001b[1;33m)\u001b[0m\u001b[1;33m\u001b[0m\u001b[1;33m\u001b[0m\u001b[0m\n\u001b[0m\u001b[0;32m    263\u001b[0m             \u001b[0mself\u001b[0m\u001b[1;33m.\u001b[0m\u001b[0mupdate_user_ns\u001b[0m\u001b[1;33m(\u001b[0m\u001b[0mresult\u001b[0m\u001b[1;33m)\u001b[0m\u001b[1;33m\u001b[0m\u001b[1;33m\u001b[0m\u001b[0m\n\u001b[0;32m    264\u001b[0m             \u001b[0mself\u001b[0m\u001b[1;33m.\u001b[0m\u001b[0mfill_exec_result\u001b[0m\u001b[1;33m(\u001b[0m\u001b[0mresult\u001b[0m\u001b[1;33m)\u001b[0m\u001b[1;33m\u001b[0m\u001b[1;33m\u001b[0m\u001b[0m\n",
      "\u001b[1;32m~\\anaconda3\\lib\\site-packages\\IPython\\core\\displayhook.py\u001b[0m in \u001b[0;36mcompute_format_data\u001b[1;34m(self, result)\u001b[0m\n\u001b[0;32m    149\u001b[0m \u001b[1;33m\u001b[0m\u001b[0m\n\u001b[0;32m    150\u001b[0m         \"\"\"\n\u001b[1;32m--> 151\u001b[1;33m         \u001b[1;32mreturn\u001b[0m \u001b[0mself\u001b[0m\u001b[1;33m.\u001b[0m\u001b[0mshell\u001b[0m\u001b[1;33m.\u001b[0m\u001b[0mdisplay_formatter\u001b[0m\u001b[1;33m.\u001b[0m\u001b[0mformat\u001b[0m\u001b[1;33m(\u001b[0m\u001b[0mresult\u001b[0m\u001b[1;33m)\u001b[0m\u001b[1;33m\u001b[0m\u001b[1;33m\u001b[0m\u001b[0m\n\u001b[0m\u001b[0;32m    152\u001b[0m \u001b[1;33m\u001b[0m\u001b[0m\n\u001b[0;32m    153\u001b[0m     \u001b[1;31m# This can be set to True by the write_output_prompt method in a subclass\u001b[0m\u001b[1;33m\u001b[0m\u001b[1;33m\u001b[0m\u001b[1;33m\u001b[0m\u001b[0m\n",
      "\u001b[1;32m~\\anaconda3\\lib\\site-packages\\IPython\\core\\formatters.py\u001b[0m in \u001b[0;36mformat\u001b[1;34m(self, obj, include, exclude)\u001b[0m\n\u001b[0;32m    148\u001b[0m             \u001b[1;32mreturn\u001b[0m \u001b[1;33m{\u001b[0m\u001b[1;33m}\u001b[0m\u001b[1;33m,\u001b[0m \u001b[1;33m{\u001b[0m\u001b[1;33m}\u001b[0m\u001b[1;33m\u001b[0m\u001b[1;33m\u001b[0m\u001b[0m\n\u001b[0;32m    149\u001b[0m \u001b[1;33m\u001b[0m\u001b[0m\n\u001b[1;32m--> 150\u001b[1;33m         \u001b[0mformat_dict\u001b[0m\u001b[1;33m,\u001b[0m \u001b[0mmd_dict\u001b[0m \u001b[1;33m=\u001b[0m \u001b[0mself\u001b[0m\u001b[1;33m.\u001b[0m\u001b[0mmimebundle_formatter\u001b[0m\u001b[1;33m(\u001b[0m\u001b[0mobj\u001b[0m\u001b[1;33m,\u001b[0m \u001b[0minclude\u001b[0m\u001b[1;33m=\u001b[0m\u001b[0minclude\u001b[0m\u001b[1;33m,\u001b[0m \u001b[0mexclude\u001b[0m\u001b[1;33m=\u001b[0m\u001b[0mexclude\u001b[0m\u001b[1;33m)\u001b[0m\u001b[1;33m\u001b[0m\u001b[1;33m\u001b[0m\u001b[0m\n\u001b[0m\u001b[0;32m    151\u001b[0m \u001b[1;33m\u001b[0m\u001b[0m\n\u001b[0;32m    152\u001b[0m         \u001b[1;32mif\u001b[0m \u001b[0mformat_dict\u001b[0m \u001b[1;32mor\u001b[0m \u001b[0mmd_dict\u001b[0m\u001b[1;33m:\u001b[0m\u001b[1;33m\u001b[0m\u001b[1;33m\u001b[0m\u001b[0m\n",
      "\u001b[1;32m<decorator-gen-5>\u001b[0m in \u001b[0;36m__call__\u001b[1;34m(self, obj, include, exclude)\u001b[0m\n",
      "\u001b[1;32m~\\anaconda3\\lib\\site-packages\\IPython\\core\\formatters.py\u001b[0m in \u001b[0;36mcatch_format_error\u001b[1;34m(method, self, *args, **kwargs)\u001b[0m\n\u001b[0;32m    222\u001b[0m     \u001b[1;34m\"\"\"show traceback on failed format call\"\"\"\u001b[0m\u001b[1;33m\u001b[0m\u001b[1;33m\u001b[0m\u001b[0m\n\u001b[0;32m    223\u001b[0m     \u001b[1;32mtry\u001b[0m\u001b[1;33m:\u001b[0m\u001b[1;33m\u001b[0m\u001b[1;33m\u001b[0m\u001b[0m\n\u001b[1;32m--> 224\u001b[1;33m         \u001b[0mr\u001b[0m \u001b[1;33m=\u001b[0m \u001b[0mmethod\u001b[0m\u001b[1;33m(\u001b[0m\u001b[0mself\u001b[0m\u001b[1;33m,\u001b[0m \u001b[1;33m*\u001b[0m\u001b[0margs\u001b[0m\u001b[1;33m,\u001b[0m \u001b[1;33m**\u001b[0m\u001b[0mkwargs\u001b[0m\u001b[1;33m)\u001b[0m\u001b[1;33m\u001b[0m\u001b[1;33m\u001b[0m\u001b[0m\n\u001b[0m\u001b[0;32m    225\u001b[0m     \u001b[1;32mexcept\u001b[0m \u001b[0mNotImplementedError\u001b[0m\u001b[1;33m:\u001b[0m\u001b[1;33m\u001b[0m\u001b[1;33m\u001b[0m\u001b[0m\n\u001b[0;32m    226\u001b[0m         \u001b[1;31m# don't warn on NotImplementedErrors\u001b[0m\u001b[1;33m\u001b[0m\u001b[1;33m\u001b[0m\u001b[1;33m\u001b[0m\u001b[0m\n",
      "\u001b[1;32m~\\anaconda3\\lib\\site-packages\\IPython\\core\\formatters.py\u001b[0m in \u001b[0;36m__call__\u001b[1;34m(self, obj, include, exclude)\u001b[0m\n\u001b[0;32m    968\u001b[0m \u001b[1;33m\u001b[0m\u001b[0m\n\u001b[0;32m    969\u001b[0m             \u001b[1;32mif\u001b[0m \u001b[0mmethod\u001b[0m \u001b[1;32mis\u001b[0m \u001b[1;32mnot\u001b[0m \u001b[1;32mNone\u001b[0m\u001b[1;33m:\u001b[0m\u001b[1;33m\u001b[0m\u001b[1;33m\u001b[0m\u001b[0m\n\u001b[1;32m--> 970\u001b[1;33m                 \u001b[1;32mreturn\u001b[0m \u001b[0mmethod\u001b[0m\u001b[1;33m(\u001b[0m\u001b[0minclude\u001b[0m\u001b[1;33m=\u001b[0m\u001b[0minclude\u001b[0m\u001b[1;33m,\u001b[0m \u001b[0mexclude\u001b[0m\u001b[1;33m=\u001b[0m\u001b[0mexclude\u001b[0m\u001b[1;33m)\u001b[0m\u001b[1;33m\u001b[0m\u001b[1;33m\u001b[0m\u001b[0m\n\u001b[0m\u001b[0;32m    971\u001b[0m             \u001b[1;32mreturn\u001b[0m \u001b[1;32mNone\u001b[0m\u001b[1;33m\u001b[0m\u001b[1;33m\u001b[0m\u001b[0m\n\u001b[0;32m    972\u001b[0m         \u001b[1;32melse\u001b[0m\u001b[1;33m:\u001b[0m\u001b[1;33m\u001b[0m\u001b[1;33m\u001b[0m\u001b[0m\n",
      "\u001b[1;32m~\\anaconda3\\lib\\site-packages\\vaex\\dataframe.py\u001b[0m in \u001b[0;36m_repr_mimebundle_\u001b[1;34m(self, include, exclude, **kwargs)\u001b[0m\n\u001b[0;32m   3686\u001b[0m         \u001b[1;31m# TODO: optimize, since we use the same data in both versions\u001b[0m\u001b[1;33m\u001b[0m\u001b[1;33m\u001b[0m\u001b[1;33m\u001b[0m\u001b[0m\n\u001b[0;32m   3687\u001b[0m         \u001b[1;31m# TODO: include latex version\u001b[0m\u001b[1;33m\u001b[0m\u001b[1;33m\u001b[0m\u001b[1;33m\u001b[0m\u001b[0m\n\u001b[1;32m-> 3688\u001b[1;33m         \u001b[1;32mreturn\u001b[0m \u001b[1;33m{\u001b[0m\u001b[1;34m'text/html'\u001b[0m\u001b[1;33m:\u001b[0m\u001b[0mself\u001b[0m\u001b[1;33m.\u001b[0m\u001b[0m_head_and_tail_table\u001b[0m\u001b[1;33m(\u001b[0m\u001b[0mformat\u001b[0m\u001b[1;33m=\u001b[0m\u001b[1;34m'html'\u001b[0m\u001b[1;33m)\u001b[0m\u001b[1;33m,\u001b[0m \u001b[1;34m'text/plain'\u001b[0m\u001b[1;33m:\u001b[0m \u001b[0mself\u001b[0m\u001b[1;33m.\u001b[0m\u001b[0m_head_and_tail_table\u001b[0m\u001b[1;33m(\u001b[0m\u001b[0mformat\u001b[0m\u001b[1;33m=\u001b[0m\u001b[1;34m'plain'\u001b[0m\u001b[1;33m)\u001b[0m\u001b[1;33m}\u001b[0m\u001b[1;33m\u001b[0m\u001b[1;33m\u001b[0m\u001b[0m\n\u001b[0m\u001b[0;32m   3689\u001b[0m \u001b[1;33m\u001b[0m\u001b[0m\n\u001b[0;32m   3690\u001b[0m     \u001b[1;32mdef\u001b[0m \u001b[0m_repr_html_\u001b[0m\u001b[1;33m(\u001b[0m\u001b[0mself\u001b[0m\u001b[1;33m)\u001b[0m\u001b[1;33m:\u001b[0m\u001b[1;33m\u001b[0m\u001b[1;33m\u001b[0m\u001b[0m\n",
      "\u001b[1;32m~\\anaconda3\\lib\\site-packages\\vaex\\dataframe.py\u001b[0m in \u001b[0;36m_head_and_tail_table\u001b[1;34m(self, n, format)\u001b[0m\n\u001b[0;32m   3450\u001b[0m \u001b[1;33m\u001b[0m\u001b[0m\n\u001b[0;32m   3451\u001b[0m     \u001b[1;32mdef\u001b[0m \u001b[0m_head_and_tail_table\u001b[0m\u001b[1;33m(\u001b[0m\u001b[0mself\u001b[0m\u001b[1;33m,\u001b[0m \u001b[0mn\u001b[0m\u001b[1;33m=\u001b[0m\u001b[1;36m5\u001b[0m\u001b[1;33m,\u001b[0m \u001b[0mformat\u001b[0m\u001b[1;33m=\u001b[0m\u001b[1;34m'html'\u001b[0m\u001b[1;33m)\u001b[0m\u001b[1;33m:\u001b[0m\u001b[1;33m\u001b[0m\u001b[1;33m\u001b[0m\u001b[0m\n\u001b[1;32m-> 3452\u001b[1;33m         \u001b[0mN\u001b[0m \u001b[1;33m=\u001b[0m \u001b[0m_len\u001b[0m\u001b[1;33m(\u001b[0m\u001b[0mself\u001b[0m\u001b[1;33m)\u001b[0m\u001b[1;33m\u001b[0m\u001b[1;33m\u001b[0m\u001b[0m\n\u001b[0m\u001b[0;32m   3453\u001b[0m         \u001b[1;32mif\u001b[0m \u001b[0mN\u001b[0m \u001b[1;33m<=\u001b[0m \u001b[0mn\u001b[0m \u001b[1;33m*\u001b[0m \u001b[1;36m2\u001b[0m\u001b[1;33m:\u001b[0m\u001b[1;33m\u001b[0m\u001b[1;33m\u001b[0m\u001b[0m\n\u001b[0;32m   3454\u001b[0m             \u001b[1;32mreturn\u001b[0m \u001b[0mself\u001b[0m\u001b[1;33m.\u001b[0m\u001b[0m_as_table\u001b[0m\u001b[1;33m(\u001b[0m\u001b[1;36m0\u001b[0m\u001b[1;33m,\u001b[0m \u001b[0mN\u001b[0m\u001b[1;33m,\u001b[0m \u001b[0mformat\u001b[0m\u001b[1;33m=\u001b[0m\u001b[0mformat\u001b[0m\u001b[1;33m)\u001b[0m\u001b[1;33m\u001b[0m\u001b[1;33m\u001b[0m\u001b[0m\n",
      "\u001b[1;32m~\\anaconda3\\lib\\site-packages\\vaex\\dataframe.py\u001b[0m in \u001b[0;36m_len\u001b[1;34m(o)\u001b[0m\n\u001b[0;32m     63\u001b[0m \u001b[1;33m\u001b[0m\u001b[0m\n\u001b[0;32m     64\u001b[0m \u001b[1;32mdef\u001b[0m \u001b[0m_len\u001b[0m\u001b[1;33m(\u001b[0m\u001b[0mo\u001b[0m\u001b[1;33m)\u001b[0m\u001b[1;33m:\u001b[0m\u001b[1;33m\u001b[0m\u001b[1;33m\u001b[0m\u001b[0m\n\u001b[1;32m---> 65\u001b[1;33m     \u001b[1;32mreturn\u001b[0m \u001b[0mo\u001b[0m\u001b[1;33m.\u001b[0m\u001b[0m__len__\u001b[0m\u001b[1;33m(\u001b[0m\u001b[1;33m)\u001b[0m\u001b[1;33m\u001b[0m\u001b[1;33m\u001b[0m\u001b[0m\n\u001b[0m\u001b[0;32m     66\u001b[0m \u001b[1;33m\u001b[0m\u001b[0m\n\u001b[0;32m     67\u001b[0m \u001b[1;33m\u001b[0m\u001b[0m\n",
      "\u001b[1;32m~\\anaconda3\\lib\\site-packages\\vaex\\dataframe.py\u001b[0m in \u001b[0;36m__len__\u001b[1;34m(self)\u001b[0m\n\u001b[0;32m   3784\u001b[0m         \u001b[1;32melse\u001b[0m\u001b[1;33m:\u001b[0m\u001b[1;33m\u001b[0m\u001b[1;33m\u001b[0m\u001b[0m\n\u001b[0;32m   3785\u001b[0m             \u001b[1;32mif\u001b[0m \u001b[0mself\u001b[0m\u001b[1;33m.\u001b[0m\u001b[0m_cached_filtered_length\u001b[0m \u001b[1;32mis\u001b[0m \u001b[1;32mNone\u001b[0m\u001b[1;33m:\u001b[0m\u001b[1;33m\u001b[0m\u001b[1;33m\u001b[0m\u001b[0m\n\u001b[1;32m-> 3786\u001b[1;33m                \u001b[0mself\u001b[0m\u001b[1;33m.\u001b[0m \u001b[0m_cached_filtered_length\u001b[0m \u001b[1;33m=\u001b[0m \u001b[0mint\u001b[0m\u001b[1;33m(\u001b[0m\u001b[0mself\u001b[0m\u001b[1;33m.\u001b[0m\u001b[0mcount\u001b[0m\u001b[1;33m(\u001b[0m\u001b[1;33m)\u001b[0m\u001b[1;33m)\u001b[0m\u001b[1;33m\u001b[0m\u001b[1;33m\u001b[0m\u001b[0m\n\u001b[0m\u001b[0;32m   3787\u001b[0m             \u001b[1;32mreturn\u001b[0m \u001b[0mself\u001b[0m\u001b[1;33m.\u001b[0m\u001b[0m_cached_filtered_length\u001b[0m\u001b[1;33m\u001b[0m\u001b[1;33m\u001b[0m\u001b[0m\n\u001b[0;32m   3788\u001b[0m \u001b[1;33m\u001b[0m\u001b[0m\n",
      "\u001b[1;32m~\\anaconda3\\lib\\site-packages\\vaex\\dataframe.py\u001b[0m in \u001b[0;36mcount\u001b[1;34m(self, expression, binby, limits, shape, selection, delay, edges, progress, array_type)\u001b[0m\n\u001b[0;32m    759\u001b[0m         \u001b[1;33m:\u001b[0m\u001b[1;32mreturn\u001b[0m\u001b[1;33m:\u001b[0m \u001b[1;33m{\u001b[0m\u001b[0mreturn_stat_scalar\u001b[0m\u001b[1;33m}\u001b[0m\u001b[1;33m\u001b[0m\u001b[1;33m\u001b[0m\u001b[0m\n\u001b[0;32m    760\u001b[0m         \"\"\"\n\u001b[1;32m--> 761\u001b[1;33m         \u001b[1;32mreturn\u001b[0m \u001b[0mself\u001b[0m\u001b[1;33m.\u001b[0m\u001b[0m_compute_agg\u001b[0m\u001b[1;33m(\u001b[0m\u001b[1;34m'count'\u001b[0m\u001b[1;33m,\u001b[0m \u001b[0mexpression\u001b[0m\u001b[1;33m,\u001b[0m \u001b[0mbinby\u001b[0m\u001b[1;33m,\u001b[0m \u001b[0mlimits\u001b[0m\u001b[1;33m,\u001b[0m \u001b[0mshape\u001b[0m\u001b[1;33m,\u001b[0m \u001b[0mselection\u001b[0m\u001b[1;33m,\u001b[0m \u001b[0mdelay\u001b[0m\u001b[1;33m,\u001b[0m \u001b[0medges\u001b[0m\u001b[1;33m,\u001b[0m \u001b[0mprogress\u001b[0m\u001b[1;33m,\u001b[0m \u001b[0marray_type\u001b[0m\u001b[1;33m=\u001b[0m\u001b[0marray_type\u001b[0m\u001b[1;33m)\u001b[0m\u001b[1;33m\u001b[0m\u001b[1;33m\u001b[0m\u001b[0m\n\u001b[0m\u001b[0;32m    762\u001b[0m \u001b[1;33m\u001b[0m\u001b[0m\n\u001b[0;32m    763\u001b[0m     \u001b[1;33m@\u001b[0m\u001b[0mdelayed\u001b[0m\u001b[1;33m\u001b[0m\u001b[1;33m\u001b[0m\u001b[0m\n",
      "\u001b[1;32m~\\anaconda3\\lib\\site-packages\\vaex\\dataframe.py\u001b[0m in \u001b[0;36m_compute_agg\u001b[1;34m(self, name, expression, binby, limits, shape, selection, delay, edges, progress, extra_expressions, array_type)\u001b[0m\n\u001b[0;32m    733\u001b[0m         \u001b[0mstats\u001b[0m \u001b[1;33m=\u001b[0m \u001b[1;33m[\u001b[0m\u001b[0mcompute\u001b[0m\u001b[1;33m(\u001b[0m\u001b[0mexpression\u001b[0m\u001b[1;33m,\u001b[0m \u001b[0mgrid\u001b[0m\u001b[1;33m,\u001b[0m \u001b[0mselection\u001b[0m\u001b[1;33m=\u001b[0m\u001b[0mselection\u001b[0m\u001b[1;33m,\u001b[0m \u001b[0medges\u001b[0m\u001b[1;33m=\u001b[0m\u001b[0medges\u001b[0m\u001b[1;33m,\u001b[0m \u001b[0mprogressbar\u001b[0m\u001b[1;33m=\u001b[0m\u001b[0mprogressbar\u001b[0m\u001b[1;33m)\u001b[0m \u001b[1;32mfor\u001b[0m \u001b[0mexpression\u001b[0m \u001b[1;32min\u001b[0m \u001b[0mexpressions\u001b[0m\u001b[1;33m]\u001b[0m\u001b[1;33m\u001b[0m\u001b[1;33m\u001b[0m\u001b[0m\n\u001b[0;32m    734\u001b[0m         \u001b[0mvar\u001b[0m \u001b[1;33m=\u001b[0m \u001b[0mfinish\u001b[0m\u001b[1;33m(\u001b[0m\u001b[0mgrid\u001b[0m\u001b[1;33m,\u001b[0m \u001b[1;33m*\u001b[0m\u001b[0mstats\u001b[0m\u001b[1;33m)\u001b[0m\u001b[1;33m\u001b[0m\u001b[1;33m\u001b[0m\u001b[0m\n\u001b[1;32m--> 735\u001b[1;33m         \u001b[1;32mreturn\u001b[0m \u001b[0mself\u001b[0m\u001b[1;33m.\u001b[0m\u001b[0m_delay\u001b[0m\u001b[1;33m(\u001b[0m\u001b[0mdelay\u001b[0m\u001b[1;33m,\u001b[0m \u001b[0mvar\u001b[0m\u001b[1;33m)\u001b[0m\u001b[1;33m\u001b[0m\u001b[1;33m\u001b[0m\u001b[0m\n\u001b[0m\u001b[0;32m    736\u001b[0m \u001b[1;33m\u001b[0m\u001b[0m\n\u001b[0;32m    737\u001b[0m     \u001b[1;33m@\u001b[0m\u001b[0mdocsubst\u001b[0m\u001b[1;33m\u001b[0m\u001b[1;33m\u001b[0m\u001b[0m\n",
      "\u001b[1;32m~\\anaconda3\\lib\\site-packages\\vaex\\dataframe.py\u001b[0m in \u001b[0;36m_delay\u001b[1;34m(self, delay, task, progressbar)\u001b[0m\n\u001b[0;32m   1497\u001b[0m             \u001b[1;32mreturn\u001b[0m \u001b[0mtask\u001b[0m\u001b[1;33m\u001b[0m\u001b[1;33m\u001b[0m\u001b[0m\n\u001b[0;32m   1498\u001b[0m         \u001b[1;32melse\u001b[0m\u001b[1;33m:\u001b[0m\u001b[1;33m\u001b[0m\u001b[1;33m\u001b[0m\u001b[0m\n\u001b[1;32m-> 1499\u001b[1;33m             \u001b[0mself\u001b[0m\u001b[1;33m.\u001b[0m\u001b[0mexecute\u001b[0m\u001b[1;33m(\u001b[0m\u001b[1;33m)\u001b[0m\u001b[1;33m\u001b[0m\u001b[1;33m\u001b[0m\u001b[0m\n\u001b[0m\u001b[0;32m   1500\u001b[0m             \u001b[1;32mreturn\u001b[0m \u001b[0mtask\u001b[0m\u001b[1;33m.\u001b[0m\u001b[0mget\u001b[0m\u001b[1;33m(\u001b[0m\u001b[1;33m)\u001b[0m\u001b[1;33m\u001b[0m\u001b[1;33m\u001b[0m\u001b[0m\n\u001b[0;32m   1501\u001b[0m \u001b[1;33m\u001b[0m\u001b[0m\n",
      "\u001b[1;32m~\\anaconda3\\lib\\site-packages\\vaex\\dataframe.py\u001b[0m in \u001b[0;36mexecute\u001b[1;34m(self)\u001b[0m\n\u001b[0;32m    306\u001b[0m         \u001b[1;34m'''Execute all delayed jobs.'''\u001b[0m\u001b[1;33m\u001b[0m\u001b[1;33m\u001b[0m\u001b[0m\n\u001b[0;32m    307\u001b[0m         \u001b[1;32mfrom\u001b[0m \u001b[1;33m.\u001b[0m\u001b[0masyncio\u001b[0m \u001b[1;32mimport\u001b[0m \u001b[0mjust_run\u001b[0m\u001b[1;33m\u001b[0m\u001b[1;33m\u001b[0m\u001b[0m\n\u001b[1;32m--> 308\u001b[1;33m         \u001b[0mjust_run\u001b[0m\u001b[1;33m(\u001b[0m\u001b[0mself\u001b[0m\u001b[1;33m.\u001b[0m\u001b[0mexecute_async\u001b[0m\u001b[1;33m(\u001b[0m\u001b[1;33m)\u001b[0m\u001b[1;33m)\u001b[0m\u001b[1;33m\u001b[0m\u001b[1;33m\u001b[0m\u001b[0m\n\u001b[0m\u001b[0;32m    309\u001b[0m \u001b[1;33m\u001b[0m\u001b[0m\n\u001b[0;32m    310\u001b[0m     \u001b[1;32masync\u001b[0m \u001b[1;32mdef\u001b[0m \u001b[0mexecute_async\u001b[0m\u001b[1;33m(\u001b[0m\u001b[0mself\u001b[0m\u001b[1;33m)\u001b[0m\u001b[1;33m:\u001b[0m\u001b[1;33m\u001b[0m\u001b[1;33m\u001b[0m\u001b[0m\n",
      "\u001b[1;32m~\\anaconda3\\lib\\site-packages\\vaex\\asyncio.py\u001b[0m in \u001b[0;36mjust_run\u001b[1;34m(coro)\u001b[0m\n\u001b[0;32m     33\u001b[0m             \u001b[0mnest_asyncio\u001b[0m\u001b[1;33m.\u001b[0m\u001b[0mapply\u001b[0m\u001b[1;33m(\u001b[0m\u001b[1;33m)\u001b[0m\u001b[1;33m\u001b[0m\u001b[1;33m\u001b[0m\u001b[0m\n\u001b[0;32m     34\u001b[0m             \u001b[0mcheck_patch_tornado\u001b[0m\u001b[1;33m(\u001b[0m\u001b[1;33m)\u001b[0m\u001b[1;33m\u001b[0m\u001b[1;33m\u001b[0m\u001b[0m\n\u001b[1;32m---> 35\u001b[1;33m         \u001b[1;32mreturn\u001b[0m \u001b[0mloop\u001b[0m\u001b[1;33m.\u001b[0m\u001b[0mrun_until_complete\u001b[0m\u001b[1;33m(\u001b[0m\u001b[0mcoro\u001b[0m\u001b[1;33m)\u001b[0m\u001b[1;33m\u001b[0m\u001b[1;33m\u001b[0m\u001b[0m\n\u001b[0m\u001b[0;32m     36\u001b[0m     \u001b[1;32mfinally\u001b[0m\u001b[1;33m:\u001b[0m\u001b[1;33m\u001b[0m\u001b[1;33m\u001b[0m\u001b[0m\n\u001b[0;32m     37\u001b[0m         \u001b[1;32mif\u001b[0m \u001b[1;32mnot\u001b[0m \u001b[0mhad_loop\u001b[0m\u001b[1;33m:\u001b[0m  \u001b[1;31m# remove loop if we did not have one\u001b[0m\u001b[1;33m\u001b[0m\u001b[1;33m\u001b[0m\u001b[0m\n",
      "\u001b[1;32m~\\anaconda3\\lib\\site-packages\\nest_asyncio.py\u001b[0m in \u001b[0;36mrun_until_complete\u001b[1;34m(self, future)\u001b[0m\n\u001b[0;32m     88\u001b[0m                 \u001b[0mf\u001b[0m\u001b[1;33m.\u001b[0m\u001b[0m_log_destroy_pending\u001b[0m \u001b[1;33m=\u001b[0m \u001b[1;32mFalse\u001b[0m\u001b[1;33m\u001b[0m\u001b[1;33m\u001b[0m\u001b[0m\n\u001b[0;32m     89\u001b[0m             \u001b[1;32mwhile\u001b[0m \u001b[1;32mnot\u001b[0m \u001b[0mf\u001b[0m\u001b[1;33m.\u001b[0m\u001b[0mdone\u001b[0m\u001b[1;33m(\u001b[0m\u001b[1;33m)\u001b[0m\u001b[1;33m:\u001b[0m\u001b[1;33m\u001b[0m\u001b[1;33m\u001b[0m\u001b[0m\n\u001b[1;32m---> 90\u001b[1;33m                 \u001b[0mself\u001b[0m\u001b[1;33m.\u001b[0m\u001b[0m_run_once\u001b[0m\u001b[1;33m(\u001b[0m\u001b[1;33m)\u001b[0m\u001b[1;33m\u001b[0m\u001b[1;33m\u001b[0m\u001b[0m\n\u001b[0m\u001b[0;32m     91\u001b[0m                 \u001b[1;32mif\u001b[0m \u001b[0mself\u001b[0m\u001b[1;33m.\u001b[0m\u001b[0m_stopping\u001b[0m\u001b[1;33m:\u001b[0m\u001b[1;33m\u001b[0m\u001b[1;33m\u001b[0m\u001b[0m\n\u001b[0;32m     92\u001b[0m                     \u001b[1;32mbreak\u001b[0m\u001b[1;33m\u001b[0m\u001b[1;33m\u001b[0m\u001b[0m\n",
      "\u001b[1;32m~\\anaconda3\\lib\\site-packages\\nest_asyncio.py\u001b[0m in \u001b[0;36m_run_once\u001b[1;34m(self)\u001b[0m\n\u001b[0;32m    114\u001b[0m             \u001b[1;32melse\u001b[0m \u001b[1;36m0.01\u001b[0m \u001b[1;32mif\u001b[0m \u001b[0mself\u001b[0m\u001b[1;33m.\u001b[0m\u001b[0m_is_proactorloop\u001b[0m\u001b[1;33m\u001b[0m\u001b[1;33m\u001b[0m\u001b[0m\n\u001b[0;32m    115\u001b[0m             else None)\n\u001b[1;32m--> 116\u001b[1;33m         \u001b[0mevent_list\u001b[0m \u001b[1;33m=\u001b[0m \u001b[0mself\u001b[0m\u001b[1;33m.\u001b[0m\u001b[0m_selector\u001b[0m\u001b[1;33m.\u001b[0m\u001b[0mselect\u001b[0m\u001b[1;33m(\u001b[0m\u001b[0mtimeout\u001b[0m\u001b[1;33m)\u001b[0m\u001b[1;33m\u001b[0m\u001b[1;33m\u001b[0m\u001b[0m\n\u001b[0m\u001b[0;32m    117\u001b[0m         \u001b[0mself\u001b[0m\u001b[1;33m.\u001b[0m\u001b[0m_process_events\u001b[0m\u001b[1;33m(\u001b[0m\u001b[0mevent_list\u001b[0m\u001b[1;33m)\u001b[0m\u001b[1;33m\u001b[0m\u001b[1;33m\u001b[0m\u001b[0m\n\u001b[0;32m    118\u001b[0m \u001b[1;33m\u001b[0m\u001b[0m\n",
      "\u001b[1;32m~\\anaconda3\\lib\\selectors.py\u001b[0m in \u001b[0;36mselect\u001b[1;34m(self, timeout)\u001b[0m\n\u001b[0;32m    321\u001b[0m         \u001b[0mready\u001b[0m \u001b[1;33m=\u001b[0m \u001b[1;33m[\u001b[0m\u001b[1;33m]\u001b[0m\u001b[1;33m\u001b[0m\u001b[1;33m\u001b[0m\u001b[0m\n\u001b[0;32m    322\u001b[0m         \u001b[1;32mtry\u001b[0m\u001b[1;33m:\u001b[0m\u001b[1;33m\u001b[0m\u001b[1;33m\u001b[0m\u001b[0m\n\u001b[1;32m--> 323\u001b[1;33m             \u001b[0mr\u001b[0m\u001b[1;33m,\u001b[0m \u001b[0mw\u001b[0m\u001b[1;33m,\u001b[0m \u001b[0m_\u001b[0m \u001b[1;33m=\u001b[0m \u001b[0mself\u001b[0m\u001b[1;33m.\u001b[0m\u001b[0m_select\u001b[0m\u001b[1;33m(\u001b[0m\u001b[0mself\u001b[0m\u001b[1;33m.\u001b[0m\u001b[0m_readers\u001b[0m\u001b[1;33m,\u001b[0m \u001b[0mself\u001b[0m\u001b[1;33m.\u001b[0m\u001b[0m_writers\u001b[0m\u001b[1;33m,\u001b[0m \u001b[1;33m[\u001b[0m\u001b[1;33m]\u001b[0m\u001b[1;33m,\u001b[0m \u001b[0mtimeout\u001b[0m\u001b[1;33m)\u001b[0m\u001b[1;33m\u001b[0m\u001b[1;33m\u001b[0m\u001b[0m\n\u001b[0m\u001b[0;32m    324\u001b[0m         \u001b[1;32mexcept\u001b[0m \u001b[0mInterruptedError\u001b[0m\u001b[1;33m:\u001b[0m\u001b[1;33m\u001b[0m\u001b[1;33m\u001b[0m\u001b[0m\n\u001b[0;32m    325\u001b[0m             \u001b[1;32mreturn\u001b[0m \u001b[0mready\u001b[0m\u001b[1;33m\u001b[0m\u001b[1;33m\u001b[0m\u001b[0m\n",
      "\u001b[1;32m~\\anaconda3\\lib\\selectors.py\u001b[0m in \u001b[0;36m_select\u001b[1;34m(self, r, w, _, timeout)\u001b[0m\n\u001b[0;32m    312\u001b[0m     \u001b[1;32mif\u001b[0m \u001b[0msys\u001b[0m\u001b[1;33m.\u001b[0m\u001b[0mplatform\u001b[0m \u001b[1;33m==\u001b[0m \u001b[1;34m'win32'\u001b[0m\u001b[1;33m:\u001b[0m\u001b[1;33m\u001b[0m\u001b[1;33m\u001b[0m\u001b[0m\n\u001b[0;32m    313\u001b[0m         \u001b[1;32mdef\u001b[0m \u001b[0m_select\u001b[0m\u001b[1;33m(\u001b[0m\u001b[0mself\u001b[0m\u001b[1;33m,\u001b[0m \u001b[0mr\u001b[0m\u001b[1;33m,\u001b[0m \u001b[0mw\u001b[0m\u001b[1;33m,\u001b[0m \u001b[0m_\u001b[0m\u001b[1;33m,\u001b[0m \u001b[0mtimeout\u001b[0m\u001b[1;33m=\u001b[0m\u001b[1;32mNone\u001b[0m\u001b[1;33m)\u001b[0m\u001b[1;33m:\u001b[0m\u001b[1;33m\u001b[0m\u001b[1;33m\u001b[0m\u001b[0m\n\u001b[1;32m--> 314\u001b[1;33m             \u001b[0mr\u001b[0m\u001b[1;33m,\u001b[0m \u001b[0mw\u001b[0m\u001b[1;33m,\u001b[0m \u001b[0mx\u001b[0m \u001b[1;33m=\u001b[0m \u001b[0mselect\u001b[0m\u001b[1;33m.\u001b[0m\u001b[0mselect\u001b[0m\u001b[1;33m(\u001b[0m\u001b[0mr\u001b[0m\u001b[1;33m,\u001b[0m \u001b[0mw\u001b[0m\u001b[1;33m,\u001b[0m \u001b[0mw\u001b[0m\u001b[1;33m,\u001b[0m \u001b[0mtimeout\u001b[0m\u001b[1;33m)\u001b[0m\u001b[1;33m\u001b[0m\u001b[1;33m\u001b[0m\u001b[0m\n\u001b[0m\u001b[0;32m    315\u001b[0m             \u001b[1;32mreturn\u001b[0m \u001b[0mr\u001b[0m\u001b[1;33m,\u001b[0m \u001b[0mw\u001b[0m \u001b[1;33m+\u001b[0m \u001b[0mx\u001b[0m\u001b[1;33m,\u001b[0m \u001b[1;33m[\u001b[0m\u001b[1;33m]\u001b[0m\u001b[1;33m\u001b[0m\u001b[1;33m\u001b[0m\u001b[0m\n\u001b[0;32m    316\u001b[0m     \u001b[1;32melse\u001b[0m\u001b[1;33m:\u001b[0m\u001b[1;33m\u001b[0m\u001b[1;33m\u001b[0m\u001b[0m\n",
      "\u001b[1;31mKeyboardInterrupt\u001b[0m: "
     ]
    }
   ],
   "source": [
    "df_clear"
   ]
  },
  {
   "cell_type": "code",
   "execution_count": null,
   "metadata": {},
   "outputs": [],
   "source": []
  }
 ],
 "metadata": {
  "kernelspec": {
   "display_name": "Python 3",
   "language": "python",
   "name": "python3"
  },
  "language_info": {
   "codemirror_mode": {
    "name": "ipython",
    "version": 3
   },
   "file_extension": ".py",
   "mimetype": "text/x-python",
   "name": "python",
   "nbconvert_exporter": "python",
   "pygments_lexer": "ipython3",
   "version": "3.8.5"
  }
 },
 "nbformat": 4,
 "nbformat_minor": 4
}
